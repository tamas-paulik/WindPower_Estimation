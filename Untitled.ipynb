{
 "cells": [
  {
   "cell_type": "code",
   "execution_count": 1,
   "id": "37868183",
   "metadata": {},
   "outputs": [
    {
     "name": "stdout",
     "output_type": "stream",
     "text": [
      "Requirement already satisfied: pandas in c:\\programdata\\anaconda3\\lib\\site-packages (1.2.4)\n",
      "Requirement already satisfied: python-dateutil>=2.7.3 in c:\\programdata\\anaconda3\\lib\\site-packages (from pandas) (2.8.1)\n",
      "Requirement already satisfied: pytz>=2017.3 in c:\\programdata\\anaconda3\\lib\\site-packages (from pandas) (2021.1)\n",
      "Requirement already satisfied: numpy>=1.16.5 in c:\\programdata\\anaconda3\\lib\\site-packages (from pandas) (1.20.1)\n",
      "Requirement already satisfied: six>=1.5 in c:\\programdata\\anaconda3\\lib\\site-packages (from python-dateutil>=2.7.3->pandas) (1.15.0)\n"
     ]
    }
   ],
   "source": [
    "## Install pandas if you don't already have it (uncomment line below)\n",
    "# !pip install pandas"
   ]
  },
  {
   "cell_type": "code",
   "execution_count": 1,
   "id": "d137906b",
   "metadata": {},
   "outputs": [],
   "source": [
    "%matplotlib inline\n",
    "import matplotlib\n",
    "import numpy as np\n",
    "import pandas as pd\n",
    "import matplotlib.pyplot as plt\n",
    "import glob\n",
    "import os\n",
    "\n",
    "#import sys\n",
    "#sys.path.append(os.path.join('.', '..')) # Allow us to import shared custom \n",
    "#                                         # libraries, like utils.py"
   ]
  },
  {
   "cell_type": "code",
   "execution_count": 2,
   "id": "c694cfae",
   "metadata": {
    "scrolled": false
   },
   "outputs": [
    {
     "name": "stdout",
     "output_type": "stream",
     "text": [
      "            Case1 Turbine  Case2 Turbine  Case3 Turbine\n",
      "Wind Speed                                             \n",
      "3.0                 12.30        4.52981          21.70\n",
      "3.5                 24.60       36.96220          56.60\n",
      "4.0                 36.90       73.13270          91.50\n",
      "4.5                 79.55      117.56100         143.70\n",
      "5.0                122.20      166.71600         195.90\n",
      "5.5                177.60      228.79400         272.35\n",
      "6.0                233.00      303.82100         348.80\n",
      "6.5                311.05      391.37400         455.60\n",
      "7.0                389.10      495.37900         562.40\n",
      "7.5                493.10      618.06200         704.20\n",
      "8.0                597.10      759.14900         846.00\n",
      "8.5                729.45      911.89800        1009.85\n",
      "9.0                861.80     1077.04000        1173.70\n",
      "9.5               1013.90     1244.10000        1336.85\n",
      "10.0              1166.00     1410.75000        1500.00\n",
      "10.5              1330.70     1500.61000        1500.00\n",
      "11.0              1495.40     1500.61000        1500.00\n",
      "11.5              1497.80     1500.61000        1500.00\n",
      "12.0              1500.20     1500.61000        1500.00\n",
      "13.0              1500.20     1500.61000        1500.00\n",
      "14.0              1500.20     1500.61000        1500.00\n",
      "15.0              1500.20     1500.61000        1500.00\n",
      "16.0              1500.20     1500.61000        1500.00\n",
      "17.0              1500.20     1500.61000        1500.00\n",
      "18.0              1500.20     1500.61000        1500.00\n",
      "19.0              1500.20     1500.61000        1500.00\n",
      "20.0              1500.20     1500.61000        1500.00\n",
      "21.0              1500.20     1500.61000        1500.00\n",
      "22.0              1500.20     1500.61000        1500.00\n",
      "23.0              1500.20     1500.61000        1500.00\n",
      "24.0              1500.20     1500.61000        1500.00\n",
      "25.0              1500.20     1500.61000        1500.00\n"
     ]
    }
   ],
   "source": [
    "#The datas are not uploaded to the repository, extract them to your base folder\n",
    "\n",
    "# Cebrina's   Path:  \n",
    "# Guillermo's Path:  \n",
    "# Tomi's      Path: C:\\Users\\PC\\Documents\\GitHub\\WindPower_Estimation\n",
    "\n",
    "# Reading Turbine power Curves\n",
    "turbine_1_power = pd.read_csv (r'C:\\Users\\PC\\Documents\\GitHub\\WindPower_Estimation\\Case1\\Turbine_Info\\Power_Curve.txt', header=0, delim_whitespace=True)\n",
    "turbine_2_power = pd.read_csv (r'C:\\Users\\PC\\Documents\\GitHub\\WindPower_Estimation\\Case2\\Turbine_Info\\Power_Curve.txt', header=0, delim_whitespace=True)\n",
    "turbine_3_power = pd.read_csv (r'C:\\Users\\PC\\Documents\\GitHub\\WindPower_Estimation\\Case3\\Turbine_Info\\Power_Curve.txt', header=0, delim_whitespace=True)\n",
    "\n",
    "# Renaming of the headers\n",
    "turbine_1_power = turbine_1_power.rename(columns={ turbine_1_power.columns[0]: 'Case1 Turbine'})\n",
    "turbine_2_power = turbine_2_power.rename(columns={ turbine_2_power.columns[0]: 'Case2 Turbine'})\n",
    "turbine_3_power = turbine_3_power.rename(columns={ turbine_3_power.columns[0]: 'Case3 Turbine'})\n",
    "\n",
    "# Concatenation the Turbines to 1 dataframe\n",
    "all_turbines_power_curve_dataframe = pd.concat([turbine_1_power, turbine_2_power,turbine_3_power ], axis=1)\n",
    "\n",
    "# Interpolation for the missing values\n",
    "all_turbines_power_curve_dataframe.interpolate(inplace=True)\n",
    "\n",
    "# Renaming ofthe the index column\n",
    "all_turbines_power_curve_dataframe.index.name = 'Wind Speed'\n",
    "print( all_turbines_power_curve_dataframe )"
   ]
  },
  {
   "cell_type": "code",
   "execution_count": 10,
   "id": "7a9112d9",
   "metadata": {},
   "outputs": [
    {
     "data": {
      "text/plain": [
       "<AxesSubplot:xlabel='Wind Speed'>"
      ]
     },
     "execution_count": 10,
     "metadata": {},
     "output_type": "execute_result"
    },
    {
     "data": {
      "image/png": "[encoded data removed]",
      "text/plain": [
       "<Figure size 432x288 with 1 Axes>"
      ]
     },
     "metadata": {
      "needs_background": "light"
     },
     "output_type": "display_data"
    }
   ],
   "source": [
    "# Plotting of the Power Curves of the 3 different wind turbines\n",
    "ax = plt.gca()\n",
    "all_turbines_power_curve_dataframe.plot(kind='line',y='Case1 Turbine',style=['r-'], ax=ax)\n",
    "all_turbines_power_curve_dataframe.plot(kind='line',y='Case2 Turbine',style=['g-'], ax=ax)\n",
    "all_turbines_power_curve_dataframe.plot(kind='line',y='Case3 Turbine',style=['b-'], ax=ax)"
   ]
  },
  {
   "cell_type": "code",
   "execution_count": null,
   "id": "7e78a323",
   "metadata": {},
   "outputs": [],
   "source": []
  }
 ],
 "metadata": {
  "kernelspec": {
   "display_name": "Python 3",
   "language": "python",
   "name": "python3"
  },
  "language_info": {
   "codemirror_mode": {
    "name": "ipython",
    "version": 3
   },
   "file_extension": ".py",
   "mimetype": "text/x-python",
   "name": "python",
   "nbconvert_exporter": "python",
   "pygments_lexer": "ipython3",
   "version": "3.8.8"
  }
 },
 "nbformat": 4,
 "nbformat_minor": 5
}
