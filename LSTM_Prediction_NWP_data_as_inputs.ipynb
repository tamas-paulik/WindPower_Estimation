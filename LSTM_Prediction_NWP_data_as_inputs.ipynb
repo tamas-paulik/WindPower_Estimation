{
  "nbformat": 4,
  "nbformat_minor": 0,
  "metadata": {
    "colab": {
      "name": "LSTM Prediction - NWP data as inputs",
      "provenance": [],
      "collapsed_sections": []
    },
    "kernelspec": {
      "name": "python3",
      "display_name": "Python 3"
    },
    "accelerator": "GPU"
  },
  "cells": [
    {
      "cell_type": "markdown",
      "metadata": {
        "id": "6FIi8t8NUTEJ"
      },
      "source": [
        "# Time Series Prediction with LSTM Using PyTorch\n",
        "\n",
        "This kernel is based on *datasets* from\n",
        "\n",
        "[Time Series Forecasting with the Long Short-Term Memory Network in Python](https://machinelearningmastery.com/time-series-forecasting-long-short-term-memory-network-python/)\n",
        "\n",
        "[Time Series Prediction with LSTM Recurrent Neural Networks in Python with Keras](https://machinelearningmastery.com/time-series-prediction-lstm-recurrent-neural-networks-python-keras/)\n"
      ]
    },
    {
      "cell_type": "markdown",
      "metadata": {
        "id": "S9DqRvEBU4aL"
      },
      "source": [
        "## Load Dataset"
      ]
    },
    {
      "cell_type": "code",
      "metadata": {
        "colab": {
          "base_uri": "https://localhost:8080/"
        },
        "id": "B5JAorx0dJ5i",
        "outputId": "6b6a7e7d-4816-40c0-df83-256c6ae8e55c"
      },
      "source": [
        "from google.colab import drive\n",
        "drive.mount('/content/drive')"
      ],
      "execution_count": 1,
      "outputs": [
        {
          "output_type": "stream",
          "name": "stdout",
          "text": [
            "Mounted at /content/drive\n"
          ]
        }
      ]
    },
    {
      "cell_type": "code",
      "metadata": {
        "colab": {
          "base_uri": "https://localhost:8080/",
          "height": 400
        },
        "id": "lJfI5TLedR6q",
        "outputId": "fe9386ce-6466-4b38-84b0-fcf9ecea27df"
      },
      "source": [
        "import pandas as pd\n",
        "import numpy as np\n",
        "\n",
        "drive_path = 'drive/My Drive/Colab Notebooks/WP_Datasets_Normalized/'\n",
        "\n",
        "dataset_train_1 = pd.read_csv(drive_path+'Dataset_Train_1_new.csv')\n",
        "dataset_test_1 = pd.read_csv(drive_path+'Dataset_Test_1_new.csv')\n",
        "\n",
        "dataset_train_1.head()"
      ],
      "execution_count": 2,
      "outputs": [
        {
          "output_type": "execute_result",
          "data": {
            "text/html": [
              "<div>\n",
              "<style scoped>\n",
              "    .dataframe tbody tr th:only-of-type {\n",
              "        vertical-align: middle;\n",
              "    }\n",
              "\n",
              "    .dataframe tbody tr th {\n",
              "        vertical-align: top;\n",
              "    }\n",
              "\n",
              "    .dataframe thead th {\n",
              "        text-align: right;\n",
              "    }\n",
              "</style>\n",
              "<table border=\"1\" class=\"dataframe\">\n",
              "  <thead>\n",
              "    <tr style=\"text-align: right;\">\n",
              "      <th></th>\n",
              "      <th>Date_Time</th>\n",
              "      <th>Direction_10m</th>\n",
              "      <th>Speed_10m</th>\n",
              "      <th>Temperature_10m</th>\n",
              "      <th>Pressure_seaLevel</th>\n",
              "      <th>Air_Density_10m</th>\n",
              "      <th>Direction_50m</th>\n",
              "      <th>Speed_50m</th>\n",
              "      <th>Temperature_50m</th>\n",
              "      <th>Air_Density_50m</th>\n",
              "      <th>Direction_100m</th>\n",
              "      <th>Speed_100m</th>\n",
              "      <th>Temperature_100m</th>\n",
              "      <th>Air_Density_100m</th>\n",
              "      <th>Direction_150m</th>\n",
              "      <th>Speed_150m</th>\n",
              "      <th>Temperature_150m</th>\n",
              "      <th>Air_Density_150m</th>\n",
              "      <th>Park_Power_[KW]</th>\n",
              "    </tr>\n",
              "  </thead>\n",
              "  <tbody>\n",
              "    <tr>\n",
              "      <th>0</th>\n",
              "      <td>2017-01-07 20:15:00</td>\n",
              "      <td>0.476323</td>\n",
              "      <td>0.110000</td>\n",
              "      <td>0.218502</td>\n",
              "      <td>0.782227</td>\n",
              "      <td>0.752212</td>\n",
              "      <td>0.473538</td>\n",
              "      <td>0.127679</td>\n",
              "      <td>0.218502</td>\n",
              "      <td>0.752212</td>\n",
              "      <td>0.484680</td>\n",
              "      <td>0.047716</td>\n",
              "      <td>0.218502</td>\n",
              "      <td>0.752212</td>\n",
              "      <td>0.515320</td>\n",
              "      <td>0.019504</td>\n",
              "      <td>0.218502</td>\n",
              "      <td>0.752212</td>\n",
              "      <td>0.690394</td>\n",
              "    </tr>\n",
              "    <tr>\n",
              "      <th>1</th>\n",
              "      <td>2017-01-07 20:30:00</td>\n",
              "      <td>0.479109</td>\n",
              "      <td>0.116923</td>\n",
              "      <td>0.214832</td>\n",
              "      <td>0.781496</td>\n",
              "      <td>0.755162</td>\n",
              "      <td>0.479109</td>\n",
              "      <td>0.135714</td>\n",
              "      <td>0.214832</td>\n",
              "      <td>0.755162</td>\n",
              "      <td>0.473538</td>\n",
              "      <td>0.053299</td>\n",
              "      <td>0.214832</td>\n",
              "      <td>0.755162</td>\n",
              "      <td>0.459610</td>\n",
              "      <td>0.024823</td>\n",
              "      <td>0.214832</td>\n",
              "      <td>0.755162</td>\n",
              "      <td>0.690394</td>\n",
              "    </tr>\n",
              "    <tr>\n",
              "      <th>2</th>\n",
              "      <td>2017-01-07 20:45:00</td>\n",
              "      <td>0.481894</td>\n",
              "      <td>0.127692</td>\n",
              "      <td>0.211009</td>\n",
              "      <td>0.780216</td>\n",
              "      <td>0.758112</td>\n",
              "      <td>0.481894</td>\n",
              "      <td>0.147321</td>\n",
              "      <td>0.211009</td>\n",
              "      <td>0.758112</td>\n",
              "      <td>0.462396</td>\n",
              "      <td>0.061421</td>\n",
              "      <td>0.211009</td>\n",
              "      <td>0.758112</td>\n",
              "      <td>0.431755</td>\n",
              "      <td>0.032624</td>\n",
              "      <td>0.211009</td>\n",
              "      <td>0.758112</td>\n",
              "      <td>0.690394</td>\n",
              "    </tr>\n",
              "    <tr>\n",
              "      <th>3</th>\n",
              "      <td>2017-01-07 21:00:00</td>\n",
              "      <td>0.484680</td>\n",
              "      <td>0.140769</td>\n",
              "      <td>0.207187</td>\n",
              "      <td>0.778387</td>\n",
              "      <td>0.764012</td>\n",
              "      <td>0.487465</td>\n",
              "      <td>0.161607</td>\n",
              "      <td>0.207187</td>\n",
              "      <td>0.764012</td>\n",
              "      <td>0.459610</td>\n",
              "      <td>0.072589</td>\n",
              "      <td>0.207187</td>\n",
              "      <td>0.764012</td>\n",
              "      <td>0.417827</td>\n",
              "      <td>0.042908</td>\n",
              "      <td>0.207187</td>\n",
              "      <td>0.764012</td>\n",
              "      <td>0.690394</td>\n",
              "    </tr>\n",
              "    <tr>\n",
              "      <th>4</th>\n",
              "      <td>2017-01-07 21:15:00</td>\n",
              "      <td>0.487465</td>\n",
              "      <td>0.155385</td>\n",
              "      <td>0.203364</td>\n",
              "      <td>0.776376</td>\n",
              "      <td>0.766962</td>\n",
              "      <td>0.490251</td>\n",
              "      <td>0.178571</td>\n",
              "      <td>0.203364</td>\n",
              "      <td>0.766962</td>\n",
              "      <td>0.456825</td>\n",
              "      <td>0.084772</td>\n",
              "      <td>0.203364</td>\n",
              "      <td>0.766962</td>\n",
              "      <td>0.412256</td>\n",
              "      <td>0.054610</td>\n",
              "      <td>0.203364</td>\n",
              "      <td>0.766962</td>\n",
              "      <td>0.690394</td>\n",
              "    </tr>\n",
              "  </tbody>\n",
              "</table>\n",
              "</div>"
            ],
            "text/plain": [
              "             Date_Time  Direction_10m  ...  Air_Density_150m  Park_Power_[KW]\n",
              "0  2017-01-07 20:15:00       0.476323  ...          0.752212         0.690394\n",
              "1  2017-01-07 20:30:00       0.479109  ...          0.755162         0.690394\n",
              "2  2017-01-07 20:45:00       0.481894  ...          0.758112         0.690394\n",
              "3  2017-01-07 21:00:00       0.484680  ...          0.764012         0.690394\n",
              "4  2017-01-07 21:15:00       0.487465  ...          0.766962         0.690394\n",
              "\n",
              "[5 rows x 19 columns]"
            ]
          },
          "metadata": {},
          "execution_count": 2
        }
      ]
    },
    {
      "cell_type": "markdown",
      "metadata": {
        "id": "xSItPJipBaZ5"
      },
      "source": [
        "## Library"
      ]
    },
    {
      "cell_type": "code",
      "metadata": {
        "id": "wb-Z7wNKUJko"
      },
      "source": [
        "import numpy as np\n",
        "import matplotlib.pyplot as plt\n",
        "import pandas as pd\n",
        "import torch\n",
        "import torch.nn as nn\n",
        "from torch.autograd import Variable\n",
        "from sklearn.preprocessing import MinMaxScaler"
      ],
      "execution_count": 3,
      "outputs": []
    },
    {
      "cell_type": "markdown",
      "metadata": {
        "id": "e31mswiSBEEB"
      },
      "source": [
        "## Data Plot"
      ]
    },
    {
      "cell_type": "code",
      "metadata": {
        "id": "kYGVki7J3Vu0"
      },
      "source": [
        "# Full set\n",
        "\n",
        "# Uncomment this if you want many variables to train the NN\n",
        "#training_set_x = dataset_train_1[['Speed_50m','Direction_50m','Speed_100m','Direction_100m']]\n",
        "#training_set_y = dataset_train_1['Park_Power_[KW]']\n",
        "#test_set_x = datasetest_set_y = dataset_test_1['Park_Power_[KW]']\n",
        "#t_test_1[['Speed_50m','Direction_50m','Speed_100m','Direction_100m']]\n",
        "\n",
        "# Uncomment this if you want a single variable to train the NN\n",
        "training_set_x = dataset_train_1[['Speed_50m']]\n",
        "training_set_y = dataset_train_1[['Park_Power_[KW]']]\n",
        "test_set_x = dataset_test_1[['Speed_50m']]\n",
        "test_set_y = dataset_test_1[['Park_Power_[KW]']]\n",
        "\n",
        "#This weird transformation is only to use the same array structure the original code was already using\n",
        "training_set_x = training_set_x.values\n",
        "test_set_x = test_set_x.values\n",
        "full_set_x = np.concatenate((training_set_x,test_set_x))\n",
        "#training_set_x = np.transpose([np.transpose(training_set_x)])\n",
        "#test_set_x = np.transpose([np.transpose(test_set_x)])\n",
        "#full_set_x = np.transpose([np.transpose(full_set_x)])\n",
        "\n",
        "training_set_y = training_set_y.values\n",
        "test_set_y = test_set_y.values\n",
        "full_set_y = np.concatenate((training_set_y,test_set_y))\n",
        "#training_set_y = np.transpose([np.transpose(training_set_y)])\n",
        "#test_set_y = np.transpose([np.transpose(test_set_y)])\n",
        "#full_set_y = np.transpose([np.transpose(full_set_y)])"
      ],
      "execution_count": 231,
      "outputs": []
    },
    {
      "cell_type": "markdown",
      "metadata": {
        "id": "NabsV8O5BBd5"
      },
      "source": [
        "## Dataloading"
      ]
    },
    {
      "cell_type": "code",
      "metadata": {
        "colab": {
          "base_uri": "https://localhost:8080/"
        },
        "id": "bHt3f8eZZ3EB",
        "outputId": "ee3c6580-3cb3-4920-8dab-debb1eb24123"
      },
      "source": [
        "# Putting to CUDA the dataset\n",
        "use_cuda = torch.cuda.is_available()\n",
        "print(\"Running GPU.\") if use_cuda else print(\"No GPU available.\")\n",
        "\n",
        "def get_variable(x):\n",
        "    \"\"\" Converts tensors to cuda, if available. \"\"\"\n",
        "    if use_cuda:\n",
        "        return x.cuda()\n",
        "    return x\n",
        "\n",
        "def get_numpy(x):\n",
        "    \"\"\" Get numpy array for both cuda and not. \"\"\"\n",
        "    if use_cuda:\n",
        "        return x.cpu().data.numpy()\n",
        "    return x.data.numpy()"
      ],
      "execution_count": 232,
      "outputs": [
        {
          "output_type": "stream",
          "name": "stdout",
          "text": [
            "Running GPU.\n"
          ]
        }
      ]
    },
    {
      "cell_type": "code",
      "metadata": {
        "id": "vIWvJCpOVmwU"
      },
      "source": [
        "def sliding_windows(data_x, data_y, seq_length_past, seq_length_future):\n",
        "    x = []\n",
        "    y = []\n",
        "\n",
        "    for i in range(seq_length_past,len(training_set_x)-seq_length_future):\n",
        "        _x = data_x[(i-seq_length_past):(i+seq_length_future+1)]\n",
        "        _y = data_y[i]\n",
        "        x.append(_x)\n",
        "        y.append(_y)\n",
        "\n",
        "    return np.array(x),np.array(y)\n",
        "\n",
        "#sc = MinMaxScaler() #This isn't necessary as data is already normalized\n",
        "#training_data = sc.fit_transform(training_set)\n",
        "\n",
        "# seq_length_past = 2 means the last 2 timesteps\n",
        "# seq_length_future = 2 means the current timestep and the next timestep\n",
        "seq_length_past = 5\n",
        "seq_length_future = 5\n",
        "\n",
        "x, y = sliding_windows(training_set_x, training_set_y, seq_length_past, seq_length_future)\n",
        "trainX = Variable(torch.Tensor(np.array(x)).cuda())\n",
        "trainY = Variable(torch.Tensor(np.array(y)).cuda())\n",
        "\n",
        "#x, y = sliding_windows(test_set, seq_length)\n",
        "#testX = Variable(torch.Tensor(np.array(x)))\n",
        "#testY = Variable(torch.Tensor(np.array(y)))\n",
        "\n",
        "#x, y = sliding_windows(full_set, seq_length)\n",
        "#dataX = Variable(torch.Tensor(np.array(x)))\n",
        "#dataY = Variable(torch.Tensor(np.array(y)))"
      ],
      "execution_count": 233,
      "outputs": []
    },
    {
      "cell_type": "markdown",
      "metadata": {
        "id": "--1LVbHOBSIy"
      },
      "source": [
        "## Model"
      ]
    },
    {
      "cell_type": "code",
      "metadata": {
        "id": "_BcDEjcABRVz"
      },
      "source": [
        "class LSTM(nn.Module):\n",
        "\n",
        "    def __init__(self, num_classes, input_size, hidden_size, num_layers):\n",
        "        super(LSTM, self).__init__()\n",
        "        \n",
        "        self.num_classes = num_classes\n",
        "        self.num_layers = num_layers\n",
        "        self.input_size = input_size\n",
        "        self.hidden_size = hidden_size\n",
        "        self.seq_length = seq_length\n",
        "        \n",
        "        self.lstm = nn.LSTM(input_size=input_size, hidden_size=hidden_size,\n",
        "                            num_layers=num_layers, batch_first=True)\n",
        "        \n",
        "        self.fc1 = nn.Linear(hidden_size, hidden_size)\n",
        "        self.fc2 = nn.Linear(hidden_size, num_classes)\n",
        "\n",
        "        self.relu = nn.ReLU()\n",
        "\n",
        "    def forward(self, x):\n",
        "        h_0 = Variable(torch.zeros(\n",
        "            self.num_layers, x.size(0), self.hidden_size).cuda())\n",
        "        \n",
        "        c_0 = Variable(torch.zeros(\n",
        "            self.num_layers, x.size(0), self.hidden_size).cuda())\n",
        "        \n",
        "        # Propagate input through LSTM\n",
        "        ula, (h_out, _) = self.lstm(x, (h_0, c_0))\n",
        "        h_out = h_out[-1].view(-1, self.hidden_size) #h_out[-1] should be the results from the last LSTM layer\n",
        "\n",
        "        # Try whether ReLU between layers improves performance\n",
        "        #h_out = self.relu(h_out)\n",
        "\n",
        "        #out = self.fc(h_out)\n",
        "        out = self.fc1(h_out)\n",
        "        out = self.relu(out)\n",
        "        out = self.fc2(out)\n",
        "        #out = self.relu(out)\n",
        "\n",
        "        return out"
      ],
      "execution_count": 236,
      "outputs": []
    },
    {
      "cell_type": "code",
      "metadata": {
        "id": "a2vvHeFgVtCp",
        "colab": {
          "base_uri": "https://localhost:8080/"
        },
        "outputId": "ec5bfcd5-8a0f-42b5-b887-0e24c9f8b732"
      },
      "source": [
        "#num_epochs = 2000\n",
        "num_epochs = 600\n",
        "learning_rate = 1e-3\n",
        "\n",
        "input_size = trainX.shape[2]\n",
        "hidden_size = 42\n",
        "num_layers = 1\n",
        "\n",
        "num_classes = 1\n",
        "\n",
        "lstm = LSTM(num_classes, input_size, hidden_size, num_layers).cuda()\n",
        "\n",
        "# Using MSE Loss and Adam, as all papers using LSTM seem to use this\n",
        "criterion = torch.nn.MSELoss()    # mean-squared error for regression\n",
        "#criterion = torch.nn.CrossEntropyLoss()\n",
        "optimizer = torch.optim.Adam(lstm.parameters(), lr=learning_rate)\n",
        "#optimizer = torch.optim.SGD(lstm.parameters(), lr=learning_rate)\n",
        "\n",
        "# Train the model\n",
        "for epoch in range(num_epochs+1):\n",
        "    outputs = lstm(trainX)\n",
        "    optimizer.zero_grad()\n",
        "    \n",
        "    # obtain the loss function\n",
        "    loss = criterion(outputs, trainY)\n",
        "    \n",
        "    loss.backward()\n",
        "    \n",
        "    optimizer.step()\n",
        "    if epoch % 100 == 0:\n",
        "      print(\"Epoch: %d, loss: %1.5f\" % (epoch, loss.item()))"
      ],
      "execution_count": 237,
      "outputs": [
        {
          "output_type": "stream",
          "name": "stdout",
          "text": [
            "Epoch: 0, loss: 0.10674\n",
            "Epoch: 100, loss: 0.04914\n",
            "Epoch: 200, loss: 0.04863\n",
            "Epoch: 300, loss: 0.04831\n",
            "Epoch: 400, loss: 0.04813\n",
            "Epoch: 500, loss: 0.04808\n",
            "Epoch: 600, loss: 0.04803\n"
          ]
        }
      ]
    },
    {
      "cell_type": "markdown",
      "metadata": {
        "id": "35ndYIwIKteS"
      },
      "source": [
        "## Testing for Park Power values"
      ]
    },
    {
      "cell_type": "code",
      "metadata": {
        "colab": {
          "base_uri": "https://localhost:8080/",
          "height": 233
        },
        "id": "f96cwRdyG3f3",
        "outputId": "5223f84e-7c2c-4b4e-b64e-b1d2db02d789"
      },
      "source": [
        "# Plotting fitted training values\n",
        "\n",
        "lstm.eval()\n",
        "train_predict = lstm(trainX[200:800]) #Plotting only a subsection to better appreciate the results\n",
        "\n",
        "train_predict = train_predict.cpu().data.numpy()\n",
        "\n",
        "dataY_plot = np.vstack((training_set_y[200:800]))\n",
        "data_predict = np.vstack((train_predict))\n",
        "\n",
        "#plt.axvline(x=len(train_predict), c='r', linestyle='--') #not needed unless plotting test data\n",
        "plt.rcParams[\"figure.figsize\"] = (20,3)\n",
        "\n",
        "plt.plot(dataY_plot)\n",
        "plt.plot(data_predict)\n",
        "plt.suptitle('Time-Series Prediction')\n",
        "plt.show()"
      ],
      "execution_count": 238,
      "outputs": [
        {
          "output_type": "display_data",
          "data": {
            "image/png": "[encoded data removed]",
            "text/plain": [
              "<Figure size 1440x216 with 1 Axes>"
            ]
          },
          "metadata": {
            "needs_background": "light"
          }
        }
      ]
    },
    {
      "cell_type": "code",
      "metadata": {
        "id": "59WXMPiv4ttI"
      },
      "source": [
        "# This section is in stand by until we improve the NN training\n",
        "\n",
        "pred_testY = []\n",
        "\n",
        "# Predicting first values of the test data with last values of train data\n",
        "# Each iteration predicts exactly 1 value and adds it to the pred_testY array\n",
        "# When items for train data cannot be fed into the LSTM, items from test data are used, one by one\n",
        "\n",
        "window_test_set_x = np.vstack((training_set_x[len(training_set_x)-seq_length:len(training_set_x)],[[0],[0]]))\n",
        "x, y = sliding_windows(window_test_set_x, np.zeros(np.shape(window_test_set_x)), seq_length)\n",
        "dataX = Variable(torch.Tensor(np.array(x)))\n",
        "\n",
        "lstm.eval()\n",
        "test_predict = lstm(dataX)\n",
        "data_predict = test_predict.data.numpy()\n",
        "pred_testY.append(data_predict[0])\n",
        "\n",
        "for i in range(1,seq_length):\n",
        "  window_test_set_x = np.vstack((training_set_x[len(training_set_x)-seq_length+i:len(training_set_x)],test_set_x[0:i],[[0],[0]]))\n",
        "  x, y = sliding_windows(window_test_set_x, np.zeros(np.shape(window_test_set_x)), seq_length)\n",
        "  dataX = Variable(torch.Tensor(np.array(x)))\n",
        "\n",
        "  lstm.eval()\n",
        "  test_predict = lstm(dataX)\n",
        "  data_predict = test_predict.data.numpy()\n",
        "  pred_testY.append(data_predict[0])\n",
        "\n",
        "# Predicting rest of the 96 values exclusively with test data\n",
        "for i in range(96-seq_length):\n",
        "  window_test_set_x = np.vstack((test_set_x[len(pred_testY)-seq_length:len(pred_testY)],[[0],[0]]))\n",
        "  x, y = sliding_windows(window_test_set_x, np.zeros(np.shape(window_test_set_x)), seq_length)\n",
        "  dataX = Variable(torch.Tensor(np.array(x)))\n",
        "\n",
        "  lstm.eval()\n",
        "  test_predict = lstm(dataX)\n",
        "  data_predict = test_predict.data.numpy()\n",
        "  pred_testY.append(data_predict[0])"
      ],
      "execution_count": 26,
      "outputs": []
    },
    {
      "cell_type": "code",
      "metadata": {
        "id": "CKEzO1jzKydL",
        "colab": {
          "base_uri": "https://localhost:8080/",
          "height": 294
        },
        "outputId": "d03cca82-9a1a-4f40-af32-8296bc238f6f"
      },
      "source": [
        "# This section is in stand by until we improve the NN training\n",
        "\n",
        "# Plotting last train values with test values vs predicted values\n",
        "\n",
        "lstm.eval()\n",
        "train_predict = lstm(trainX)\n",
        "\n",
        "train_predict = train_predict.data.numpy()\n",
        "\n",
        "dataY_plot = np.vstack((training_set_y[len(training_set_y)-224:],test_set_y[0:97]))\n",
        "data_predict = np.vstack((train_predict[len(train_predict)-224:],pred_testY))\n",
        "\n",
        "plt.axvline(x=len(training_set_y[len(training_set_y)-224:]), c='r', linestyle='--')\n",
        "\n",
        "plt.plot(dataY_plot)\n",
        "plt.plot(data_predict)\n",
        "plt.suptitle('Time-Series Prediction')\n",
        "plt.show()"
      ],
      "execution_count": 13,
      "outputs": [
        {
          "output_type": "display_data",
          "data": {
            "image/png": "[encoded data removed]",
            "text/plain": [
              "<Figure size 432x288 with 1 Axes>"
            ]
          },
          "metadata": {
            "needs_background": "light"
          }
        }
      ]
    }
  ]
}