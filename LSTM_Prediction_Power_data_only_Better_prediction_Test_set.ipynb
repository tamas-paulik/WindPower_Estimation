{
  "nbformat": 4,
  "nbformat_minor": 0,
  "metadata": {
    "colab": {
      "name": "LSTM Prediction - Power data only - Better prediction Test set",
      "provenance": []
    },
    "kernelspec": {
      "name": "python3",
      "display_name": "Python 3"
    },
    "accelerator": "GPU"
  },
  "cells": [
    {
      "cell_type": "markdown",
      "metadata": {
        "id": "6FIi8t8NUTEJ"
      },
      "source": [
        "# Time Series Prediction with LSTM Using PyTorch\n",
        "\n",
        "This kernel is based on *datasets* from\n",
        "\n",
        "[Time Series Forecasting with the Long Short-Term Memory Network in Python](https://machinelearningmastery.com/time-series-forecasting-long-short-term-memory-network-python/)\n",
        "\n",
        "[Time Series Prediction with LSTM Recurrent Neural Networks in Python with Keras](https://machinelearningmastery.com/time-series-prediction-lstm-recurrent-neural-networks-python-keras/)\n"
      ]
    },
    {
      "cell_type": "markdown",
      "metadata": {
        "id": "S9DqRvEBU4aL"
      },
      "source": [
        "## Load Dataset"
      ]
    },
    {
      "cell_type": "code",
      "metadata": {
        "colab": {
          "base_uri": "https://localhost:8080/"
        },
        "id": "B5JAorx0dJ5i",
        "outputId": "ae778a19-cbe5-44cd-9735-53caed8543b0"
      },
      "source": [
        "from google.colab import drive\n",
        "drive.mount('/content/drive')"
      ],
      "execution_count": null,
      "outputs": [
        {
          "output_type": "stream",
          "name": "stdout",
          "text": [
            "Mounted at /content/drive\n"
          ]
        }
      ]
    },
    {
      "cell_type": "code",
      "metadata": {
        "colab": {
          "base_uri": "https://localhost:8080/",
          "height": 399
        },
        "id": "lJfI5TLedR6q",
        "outputId": "c2140928-6ad3-4ef4-9ac8-2d0c0772ae07"
      },
      "source": [
        "import pandas as pd\n",
        "import numpy as np\n",
        "\n",
        "drive_path = 'drive/My Drive/Colab Notebooks/WP_Datasets_Normalized/'\n",
        "\n",
        "dataset_train_1 = pd.read_csv(drive_path+'Dataset_Train_1_new.csv')\n",
        "dataset_test_1 = pd.read_csv(drive_path+'Dataset_Test_1_new.csv')\n",
        "\n",
        "dataset_train_1.head()"
      ],
      "execution_count": null,
      "outputs": [
        {
          "output_type": "execute_result",
          "data": {
            "text/html": [
              "<div>\n",
              "<style scoped>\n",
              "    .dataframe tbody tr th:only-of-type {\n",
              "        vertical-align: middle;\n",
              "    }\n",
              "\n",
              "    .dataframe tbody tr th {\n",
              "        vertical-align: top;\n",
              "    }\n",
              "\n",
              "    .dataframe thead th {\n",
              "        text-align: right;\n",
              "    }\n",
              "</style>\n",
              "<table border=\"1\" class=\"dataframe\">\n",
              "  <thead>\n",
              "    <tr style=\"text-align: right;\">\n",
              "      <th></th>\n",
              "      <th>Date_Time</th>\n",
              "      <th>Direction_10m</th>\n",
              "      <th>Speed_10m</th>\n",
              "      <th>Temperature_10m</th>\n",
              "      <th>Pressure_seaLevel</th>\n",
              "      <th>Air_Density_10m</th>\n",
              "      <th>Direction_50m</th>\n",
              "      <th>Speed_50m</th>\n",
              "      <th>Temperature_50m</th>\n",
              "      <th>Air_Density_50m</th>\n",
              "      <th>Direction_100m</th>\n",
              "      <th>Speed_100m</th>\n",
              "      <th>Temperature_100m</th>\n",
              "      <th>Air_Density_100m</th>\n",
              "      <th>Direction_150m</th>\n",
              "      <th>Speed_150m</th>\n",
              "      <th>Temperature_150m</th>\n",
              "      <th>Air_Density_150m</th>\n",
              "      <th>Park_Power_[KW]</th>\n",
              "    </tr>\n",
              "  </thead>\n",
              "  <tbody>\n",
              "    <tr>\n",
              "      <th>0</th>\n",
              "      <td>2017-01-07 20:15:00</td>\n",
              "      <td>0.476323</td>\n",
              "      <td>0.110000</td>\n",
              "      <td>0.218502</td>\n",
              "      <td>0.782227</td>\n",
              "      <td>0.752212</td>\n",
              "      <td>0.473538</td>\n",
              "      <td>0.127679</td>\n",
              "      <td>0.218502</td>\n",
              "      <td>0.752212</td>\n",
              "      <td>0.484680</td>\n",
              "      <td>0.047716</td>\n",
              "      <td>0.218502</td>\n",
              "      <td>0.752212</td>\n",
              "      <td>0.515320</td>\n",
              "      <td>0.019504</td>\n",
              "      <td>0.218502</td>\n",
              "      <td>0.752212</td>\n",
              "      <td>0.690394</td>\n",
              "    </tr>\n",
              "    <tr>\n",
              "      <th>1</th>\n",
              "      <td>2017-01-07 20:30:00</td>\n",
              "      <td>0.479109</td>\n",
              "      <td>0.116923</td>\n",
              "      <td>0.214832</td>\n",
              "      <td>0.781496</td>\n",
              "      <td>0.755162</td>\n",
              "      <td>0.479109</td>\n",
              "      <td>0.135714</td>\n",
              "      <td>0.214832</td>\n",
              "      <td>0.755162</td>\n",
              "      <td>0.473538</td>\n",
              "      <td>0.053299</td>\n",
              "      <td>0.214832</td>\n",
              "      <td>0.755162</td>\n",
              "      <td>0.459610</td>\n",
              "      <td>0.024823</td>\n",
              "      <td>0.214832</td>\n",
              "      <td>0.755162</td>\n",
              "      <td>0.690394</td>\n",
              "    </tr>\n",
              "    <tr>\n",
              "      <th>2</th>\n",
              "      <td>2017-01-07 20:45:00</td>\n",
              "      <td>0.481894</td>\n",
              "      <td>0.127692</td>\n",
              "      <td>0.211009</td>\n",
              "      <td>0.780216</td>\n",
              "      <td>0.758112</td>\n",
              "      <td>0.481894</td>\n",
              "      <td>0.147321</td>\n",
              "      <td>0.211009</td>\n",
              "      <td>0.758112</td>\n",
              "      <td>0.462396</td>\n",
              "      <td>0.061421</td>\n",
              "      <td>0.211009</td>\n",
              "      <td>0.758112</td>\n",
              "      <td>0.431755</td>\n",
              "      <td>0.032624</td>\n",
              "      <td>0.211009</td>\n",
              "      <td>0.758112</td>\n",
              "      <td>0.690394</td>\n",
              "    </tr>\n",
              "    <tr>\n",
              "      <th>3</th>\n",
              "      <td>2017-01-07 21:00:00</td>\n",
              "      <td>0.484680</td>\n",
              "      <td>0.140769</td>\n",
              "      <td>0.207187</td>\n",
              "      <td>0.778387</td>\n",
              "      <td>0.764012</td>\n",
              "      <td>0.487465</td>\n",
              "      <td>0.161607</td>\n",
              "      <td>0.207187</td>\n",
              "      <td>0.764012</td>\n",
              "      <td>0.459610</td>\n",
              "      <td>0.072589</td>\n",
              "      <td>0.207187</td>\n",
              "      <td>0.764012</td>\n",
              "      <td>0.417827</td>\n",
              "      <td>0.042908</td>\n",
              "      <td>0.207187</td>\n",
              "      <td>0.764012</td>\n",
              "      <td>0.690394</td>\n",
              "    </tr>\n",
              "    <tr>\n",
              "      <th>4</th>\n",
              "      <td>2017-01-07 21:15:00</td>\n",
              "      <td>0.487465</td>\n",
              "      <td>0.155385</td>\n",
              "      <td>0.203364</td>\n",
              "      <td>0.776376</td>\n",
              "      <td>0.766962</td>\n",
              "      <td>0.490251</td>\n",
              "      <td>0.178571</td>\n",
              "      <td>0.203364</td>\n",
              "      <td>0.766962</td>\n",
              "      <td>0.456825</td>\n",
              "      <td>0.084772</td>\n",
              "      <td>0.203364</td>\n",
              "      <td>0.766962</td>\n",
              "      <td>0.412256</td>\n",
              "      <td>0.054610</td>\n",
              "      <td>0.203364</td>\n",
              "      <td>0.766962</td>\n",
              "      <td>0.690394</td>\n",
              "    </tr>\n",
              "  </tbody>\n",
              "</table>\n",
              "</div>"
            ],
            "text/plain": [
              "             Date_Time  Direction_10m  ...  Air_Density_150m  Park_Power_[KW]\n",
              "0  2017-01-07 20:15:00       0.476323  ...          0.752212         0.690394\n",
              "1  2017-01-07 20:30:00       0.479109  ...          0.755162         0.690394\n",
              "2  2017-01-07 20:45:00       0.481894  ...          0.758112         0.690394\n",
              "3  2017-01-07 21:00:00       0.484680  ...          0.764012         0.690394\n",
              "4  2017-01-07 21:15:00       0.487465  ...          0.766962         0.690394\n",
              "\n",
              "[5 rows x 19 columns]"
            ]
          },
          "metadata": {},
          "execution_count": 2
        }
      ]
    },
    {
      "cell_type": "markdown",
      "metadata": {
        "id": "xSItPJipBaZ5"
      },
      "source": [
        "## Library"
      ]
    },
    {
      "cell_type": "code",
      "metadata": {
        "id": "wb-Z7wNKUJko"
      },
      "source": [
        "import numpy as np\n",
        "import matplotlib.pyplot as plt\n",
        "import pandas as pd\n",
        "import torch\n",
        "import torch.nn as nn\n",
        "from torch.autograd import Variable\n",
        "from sklearn.preprocessing import MinMaxScaler"
      ],
      "execution_count": null,
      "outputs": []
    },
    {
      "cell_type": "markdown",
      "metadata": {
        "id": "e31mswiSBEEB"
      },
      "source": [
        "## Data Plot"
      ]
    },
    {
      "cell_type": "code",
      "metadata": {
        "id": "ooQPXSYhA_ps",
        "colab": {
          "base_uri": "https://localhost:8080/",
          "height": 265
        },
        "outputId": "c8a8d767-3917-4767-99a9-121d68703f64"
      },
      "source": [
        "# Full set\n",
        "training_set = dataset_train_1['Park_Power_[KW]']\n",
        "test_set = dataset_test_1['Park_Power_[KW]']\n",
        "\n",
        "#This weird transformation is only to use the same array structure the original code was already using\n",
        "training_set = training_set.values\n",
        "test_set = test_set.values\n",
        "full_set = np.concatenate((training_set,test_set))\n",
        "training_set = np.transpose([np.transpose(training_set)])\n",
        "test_set = np.transpose([np.transpose(test_set)])\n",
        "full_set = np.transpose([np.transpose(full_set)])\n",
        "\n",
        "plt.plot(training_set, label = 'Park_Power_[KW]')\n",
        "plt.show()"
      ],
      "execution_count": null,
      "outputs": [
        {
          "output_type": "display_data",
          "data": {
            "image/png": "[encoded data removed]",
            "text/plain": [
              "<Figure size 432x288 with 1 Axes>"
            ]
          },
          "metadata": {
            "needs_background": "light"
          }
        }
      ]
    },
    {
      "cell_type": "markdown",
      "metadata": {
        "id": "NabsV8O5BBd5"
      },
      "source": [
        "## Dataloading"
      ]
    },
    {
      "cell_type": "code",
      "metadata": {
        "id": "vIWvJCpOVmwU"
      },
      "source": [
        "def sliding_windows(data, seq_length):\n",
        "    x = []\n",
        "    y = []\n",
        "\n",
        "    for i in range(len(data)-seq_length-1):\n",
        "        _x = data[i:(i+seq_length)]\n",
        "        _y = data[i+seq_length]\n",
        "        x.append(_x)\n",
        "        y.append(_y)\n",
        "\n",
        "    return np.array(x),np.array(y)\n",
        "\n",
        "#sc = MinMaxScaler() #This isn't necessary as data is already normalized\n",
        "#training_data = sc.fit_transform(training_set)\n",
        "\n",
        "seq_length = 4\n",
        "\n",
        "x, y = sliding_windows(training_set, seq_length)\n",
        "trainX = Variable(torch.Tensor(np.array(x)))\n",
        "trainY = Variable(torch.Tensor(np.array(y)))\n",
        "\n",
        "#x, y = sliding_windows(test_set, seq_length)\n",
        "#testX = Variable(torch.Tensor(np.array(x)))\n",
        "#testY = Variable(torch.Tensor(np.array(y)))\n",
        "\n",
        "#x, y = sliding_windows(full_set, seq_length)\n",
        "#dataX = Variable(torch.Tensor(np.array(x)))\n",
        "#dataY = Variable(torch.Tensor(np.array(y)))"
      ],
      "execution_count": null,
      "outputs": []
    },
    {
      "cell_type": "markdown",
      "metadata": {
        "id": "--1LVbHOBSIy"
      },
      "source": [
        "## Model"
      ]
    },
    {
      "cell_type": "code",
      "metadata": {
        "id": "_BcDEjcABRVz"
      },
      "source": [
        "class LSTM(nn.Module):\n",
        "\n",
        "    def __init__(self, num_classes, input_size, hidden_size, num_layers):\n",
        "        super(LSTM, self).__init__()\n",
        "        \n",
        "        self.num_classes = num_classes\n",
        "        self.num_layers = num_layers\n",
        "        self.input_size = input_size\n",
        "        self.hidden_size = hidden_size\n",
        "        self.seq_length = seq_length\n",
        "        \n",
        "        self.lstm = nn.LSTM(input_size=input_size, hidden_size=hidden_size,\n",
        "                            num_layers=num_layers, batch_first=True)\n",
        "        \n",
        "        self.fc = nn.Linear(hidden_size, num_classes)\n",
        "\n",
        "    def forward(self, x):\n",
        "        h_0 = Variable(torch.zeros(\n",
        "            self.num_layers, x.size(0), self.hidden_size))\n",
        "        \n",
        "        c_0 = Variable(torch.zeros(\n",
        "            self.num_layers, x.size(0), self.hidden_size))\n",
        "        \n",
        "        # Propagate input through LSTM\n",
        "        ula, (h_out, _) = self.lstm(x, (h_0, c_0))\n",
        "        \n",
        "        h_out = h_out.view(-1, self.hidden_size)\n",
        "        \n",
        "        out = self.fc(h_out)\n",
        "        \n",
        "        return out"
      ],
      "execution_count": null,
      "outputs": []
    },
    {
      "cell_type": "markdown",
      "metadata": {
        "id": "tdzFI5GJBUF5"
      },
      "source": [
        "## Training"
      ]
    },
    {
      "cell_type": "code",
      "metadata": {
        "id": "a2vvHeFgVtCp",
        "colab": {
          "base_uri": "https://localhost:8080/"
        },
        "outputId": "5f509248-697f-4595-deb6-d6b306ce4707"
      },
      "source": [
        "num_epochs = 2000\n",
        "learning_rate = 0.01\n",
        "\n",
        "input_size = 1\n",
        "hidden_size = 2\n",
        "num_layers = 1\n",
        "\n",
        "num_classes = 1\n",
        "\n",
        "lstm = LSTM(num_classes, input_size, hidden_size, num_layers)\n",
        "\n",
        "criterion = torch.nn.MSELoss()    # mean-squared error for regression\n",
        "optimizer = torch.optim.Adam(lstm.parameters(), lr=learning_rate)\n",
        "#optimizer = torch.optim.SGD(lstm.parameters(), lr=learning_rate)\n",
        "\n",
        "# Train the model\n",
        "for epoch in range(num_epochs):\n",
        "    outputs = lstm(trainX)\n",
        "    optimizer.zero_grad()\n",
        "    \n",
        "    # obtain the loss function\n",
        "    loss = criterion(outputs, trainY)\n",
        "    \n",
        "    loss.backward()\n",
        "    \n",
        "    optimizer.step()\n",
        "    if epoch % 100 == 0:\n",
        "      print(\"Epoch: %d, loss: %1.5f\" % (epoch, loss.item()))"
      ],
      "execution_count": null,
      "outputs": [
        {
          "output_type": "stream",
          "name": "stdout",
          "text": [
            "Epoch: 0, loss: 0.06102\n",
            "Epoch: 100, loss: 0.00277\n",
            "Epoch: 200, loss: 0.00149\n",
            "Epoch: 300, loss: 0.00114\n",
            "Epoch: 400, loss: 0.00103\n",
            "Epoch: 500, loss: 0.00099\n",
            "Epoch: 600, loss: 0.00099\n",
            "Epoch: 700, loss: 0.00099\n",
            "Epoch: 800, loss: 0.00099\n",
            "Epoch: 900, loss: 0.00098\n",
            "Epoch: 1000, loss: 0.00098\n",
            "Epoch: 1100, loss: 0.00098\n",
            "Epoch: 1200, loss: 0.00098\n",
            "Epoch: 1300, loss: 0.00098\n",
            "Epoch: 1400, loss: 0.00098\n",
            "Epoch: 1500, loss: 0.00098\n",
            "Epoch: 1600, loss: 0.00098\n",
            "Epoch: 1700, loss: 0.00098\n",
            "Epoch: 1800, loss: 0.00098\n",
            "Epoch: 1900, loss: 0.00098\n"
          ]
        }
      ]
    },
    {
      "cell_type": "markdown",
      "metadata": {
        "id": "35ndYIwIKteS"
      },
      "source": [
        "## Testing for Park Power values"
      ]
    },
    {
      "cell_type": "code",
      "metadata": {
        "id": "59WXMPiv4ttI"
      },
      "source": [
        "pred_testX = []\n",
        "\n",
        "# Predicting first values of the test data with last values of train data\n",
        "# Each iteration predicts exactly 1 value and adds it to the pred_testX array\n",
        "# When items for train data cannot be fed into the LSTM, items from pred_testX are used, one by one\n",
        "\n",
        "window_test_set = np.vstack((training_set[len(training_set)-seq_length:len(training_set)],[[0],[0]]))\n",
        "x, y = sliding_windows(window_test_set, seq_length)\n",
        "dataX = Variable(torch.Tensor(np.array(x)))\n",
        "\n",
        "lstm.eval()\n",
        "test_predict = lstm(dataX)\n",
        "data_predict = test_predict.data.numpy()\n",
        "pred_testX.append(data_predict[0])\n",
        "\n",
        "for i in range(1,seq_length):\n",
        "  window_test_set = np.vstack((training_set[len(training_set)-seq_length+i:len(training_set)],pred_testX,[[0],[0]]))\n",
        "  x, y = sliding_windows(window_test_set, seq_length)\n",
        "  dataX = Variable(torch.Tensor(np.array(x)))\n",
        "\n",
        "  lstm.eval()\n",
        "  test_predict = lstm(dataX)\n",
        "  data_predict = test_predict.data.numpy()\n",
        "  pred_testX.append(data_predict[0])\n",
        "\n",
        "# Predicting rest of the 96 values exclusively with predicted data from pred_testX\n",
        "for i in range(96-seq_length):\n",
        "  window_test_set = np.vstack((pred_testX[len(pred_testX)-seq_length:len(pred_testX)],[[0],[0]]))\n",
        "  x, y = sliding_windows(window_test_set, seq_length)\n",
        "  dataX = Variable(torch.Tensor(np.array(x)))\n",
        "\n",
        "  lstm.eval()\n",
        "  test_predict = lstm(dataX)\n",
        "  data_predict = test_predict.data.numpy()\n",
        "  pred_testX.append(data_predict[0])"
      ],
      "execution_count": null,
      "outputs": []
    },
    {
      "cell_type": "code",
      "metadata": {
        "id": "CKEzO1jzKydL",
        "colab": {
          "base_uri": "https://localhost:8080/",
          "height": 294
        },
        "outputId": "8ca9c74b-c583-4476-ae96-49e4243c31d7"
      },
      "source": [
        "# Plotting last train values with test values vs predicted values\n",
        "\n",
        "lstm.eval()\n",
        "train_predict = lstm(trainX)\n",
        "\n",
        "train_predict = train_predict.data.numpy()\n",
        "\n",
        "dataY_plot = np.vstack((training_set[len(training_set)-224:],test_set[0:97]))\n",
        "data_predict = np.vstack((train_predict[len(train_predict)-224:],pred_testX))\n",
        "\n",
        "plt.axvline(x=len(training_set[len(training_set)-224:]), c='r', linestyle='--')\n",
        "\n",
        "plt.plot(dataY_plot)\n",
        "plt.plot(data_predict)\n",
        "plt.suptitle('Time-Series Prediction')\n",
        "plt.show()"
      ],
      "execution_count": null,
      "outputs": [
        {
          "output_type": "display_data",
          "data": {
            "image/png": "[encoded data removed]",
            "text/plain": [
              "<Figure size 432x288 with 1 Axes>"
            ]
          },
          "metadata": {
            "needs_background": "light"
          }
        }
      ]
    }
  ]
}