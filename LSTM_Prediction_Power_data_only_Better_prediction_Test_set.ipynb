{
 "cells": [
  {
   "cell_type": "markdown",
   "metadata": {
    "id": "6FIi8t8NUTEJ"
   },
   "source": [
    "# Time Series Prediction with LSTM Using PyTorch\n",
    "\n",
    "This kernel is based on *datasets* from\n",
    "\n",
    "[Time Series Forecasting with the Long Short-Term Memory Network in Python](https://machinelearningmastery.com/time-series-forecasting-long-short-term-memory-network-python/)\n",
    "\n",
    "[Time Series Prediction with LSTM Recurrent Neural Networks in Python with Keras](https://machinelearningmastery.com/time-series-prediction-lstm-recurrent-neural-networks-python-keras/)\n"
   ]
  },
  {
   "cell_type": "markdown",
   "metadata": {
    "id": "S9DqRvEBU4aL"
   },
   "source": [
    "## Load Dataset"
   ]
  },
  {
   "cell_type": "code",
   "execution_count": null,
   "metadata": {
    "colab": {
     "base_uri": "https://localhost:8080/"
    },
    "id": "B5JAorx0dJ5i",
    "outputId": "ae778a19-cbe5-44cd-9735-53caed8543b0"
   },
   "outputs": [],
   "source": []
  },
  {
   "cell_type": "code",
   "execution_count": 130,
   "metadata": {
    "colab": {
     "base_uri": "https://localhost:8080/",
     "height": 399
    },
    "id": "lJfI5TLedR6q",
    "outputId": "c2140928-6ad3-4ef4-9ac8-2d0c0772ae07"
   },
   "outputs": [
    {
     "data": {
      "text/html": [
       "<div>\n",
       "<style scoped>\n",
       "    .dataframe tbody tr th:only-of-type {\n",
       "        vertical-align: middle;\n",
       "    }\n",
       "\n",
       "    .dataframe tbody tr th {\n",
       "        vertical-align: top;\n",
       "    }\n",
       "\n",
       "    .dataframe thead th {\n",
       "        text-align: right;\n",
       "    }\n",
       "</style>\n",
       "<table border=\"1\" class=\"dataframe\">\n",
       "  <thead>\n",
       "    <tr style=\"text-align: right;\">\n",
       "      <th></th>\n",
       "      <th>Date_Time</th>\n",
       "      <th>Direction_10m</th>\n",
       "      <th>Speed_10m</th>\n",
       "      <th>Temperature_10m</th>\n",
       "      <th>Pressure_seaLevel</th>\n",
       "      <th>Air_Density_10m</th>\n",
       "      <th>Direction_50m</th>\n",
       "      <th>Speed_50m</th>\n",
       "      <th>Temperature_50m</th>\n",
       "      <th>Air_Density_50m</th>\n",
       "      <th>Direction_100m</th>\n",
       "      <th>Speed_100m</th>\n",
       "      <th>Temperature_100m</th>\n",
       "      <th>Air_Density_100m</th>\n",
       "      <th>Direction_150m</th>\n",
       "      <th>Speed_150m</th>\n",
       "      <th>Temperature_150m</th>\n",
       "      <th>Air_Density_150m</th>\n",
       "      <th>Park_Power_[KW]</th>\n",
       "    </tr>\n",
       "  </thead>\n",
       "  <tbody>\n",
       "    <tr>\n",
       "      <th>0</th>\n",
       "      <td>2017-01-07 20:15:00</td>\n",
       "      <td>0.476323</td>\n",
       "      <td>0.110000</td>\n",
       "      <td>0.218502</td>\n",
       "      <td>0.782227</td>\n",
       "      <td>0.752212</td>\n",
       "      <td>0.473538</td>\n",
       "      <td>0.127679</td>\n",
       "      <td>0.218502</td>\n",
       "      <td>0.752212</td>\n",
       "      <td>0.484680</td>\n",
       "      <td>0.047716</td>\n",
       "      <td>0.218502</td>\n",
       "      <td>0.752212</td>\n",
       "      <td>0.515320</td>\n",
       "      <td>0.019504</td>\n",
       "      <td>0.218502</td>\n",
       "      <td>0.752212</td>\n",
       "      <td>0.690394</td>\n",
       "    </tr>\n",
       "    <tr>\n",
       "      <th>1</th>\n",
       "      <td>2017-01-07 20:30:00</td>\n",
       "      <td>0.479109</td>\n",
       "      <td>0.116923</td>\n",
       "      <td>0.214832</td>\n",
       "      <td>0.781496</td>\n",
       "      <td>0.755162</td>\n",
       "      <td>0.479109</td>\n",
       "      <td>0.135714</td>\n",
       "      <td>0.214832</td>\n",
       "      <td>0.755162</td>\n",
       "      <td>0.473538</td>\n",
       "      <td>0.053299</td>\n",
       "      <td>0.214832</td>\n",
       "      <td>0.755162</td>\n",
       "      <td>0.459610</td>\n",
       "      <td>0.024823</td>\n",
       "      <td>0.214832</td>\n",
       "      <td>0.755162</td>\n",
       "      <td>0.690394</td>\n",
       "    </tr>\n",
       "    <tr>\n",
       "      <th>2</th>\n",
       "      <td>2017-01-07 20:45:00</td>\n",
       "      <td>0.481894</td>\n",
       "      <td>0.127692</td>\n",
       "      <td>0.211009</td>\n",
       "      <td>0.780216</td>\n",
       "      <td>0.758112</td>\n",
       "      <td>0.481894</td>\n",
       "      <td>0.147321</td>\n",
       "      <td>0.211009</td>\n",
       "      <td>0.758112</td>\n",
       "      <td>0.462396</td>\n",
       "      <td>0.061421</td>\n",
       "      <td>0.211009</td>\n",
       "      <td>0.758112</td>\n",
       "      <td>0.431755</td>\n",
       "      <td>0.032624</td>\n",
       "      <td>0.211009</td>\n",
       "      <td>0.758112</td>\n",
       "      <td>0.690394</td>\n",
       "    </tr>\n",
       "    <tr>\n",
       "      <th>3</th>\n",
       "      <td>2017-01-07 21:00:00</td>\n",
       "      <td>0.484680</td>\n",
       "      <td>0.140769</td>\n",
       "      <td>0.207187</td>\n",
       "      <td>0.778387</td>\n",
       "      <td>0.764012</td>\n",
       "      <td>0.487465</td>\n",
       "      <td>0.161607</td>\n",
       "      <td>0.207187</td>\n",
       "      <td>0.764012</td>\n",
       "      <td>0.459610</td>\n",
       "      <td>0.072589</td>\n",
       "      <td>0.207187</td>\n",
       "      <td>0.764012</td>\n",
       "      <td>0.417827</td>\n",
       "      <td>0.042908</td>\n",
       "      <td>0.207187</td>\n",
       "      <td>0.764012</td>\n",
       "      <td>0.690394</td>\n",
       "    </tr>\n",
       "    <tr>\n",
       "      <th>4</th>\n",
       "      <td>2017-01-07 21:15:00</td>\n",
       "      <td>0.487465</td>\n",
       "      <td>0.155385</td>\n",
       "      <td>0.203364</td>\n",
       "      <td>0.776376</td>\n",
       "      <td>0.766962</td>\n",
       "      <td>0.490251</td>\n",
       "      <td>0.178571</td>\n",
       "      <td>0.203364</td>\n",
       "      <td>0.766962</td>\n",
       "      <td>0.456825</td>\n",
       "      <td>0.084772</td>\n",
       "      <td>0.203364</td>\n",
       "      <td>0.766962</td>\n",
       "      <td>0.412256</td>\n",
       "      <td>0.054610</td>\n",
       "      <td>0.203364</td>\n",
       "      <td>0.766962</td>\n",
       "      <td>0.690394</td>\n",
       "    </tr>\n",
       "  </tbody>\n",
       "</table>\n",
       "</div>"
      ],
      "text/plain": [
       "             Date_Time  Direction_10m  Speed_10m  Temperature_10m  \\\n",
       "0  2017-01-07 20:15:00       0.476323   0.110000         0.218502   \n",
       "1  2017-01-07 20:30:00       0.479109   0.116923         0.214832   \n",
       "2  2017-01-07 20:45:00       0.481894   0.127692         0.211009   \n",
       "3  2017-01-07 21:00:00       0.484680   0.140769         0.207187   \n",
       "4  2017-01-07 21:15:00       0.487465   0.155385         0.203364   \n",
       "\n",
       "   Pressure_seaLevel  Air_Density_10m  Direction_50m  Speed_50m  \\\n",
       "0           0.782227         0.752212       0.473538   0.127679   \n",
       "1           0.781496         0.755162       0.479109   0.135714   \n",
       "2           0.780216         0.758112       0.481894   0.147321   \n",
       "3           0.778387         0.764012       0.487465   0.161607   \n",
       "4           0.776376         0.766962       0.490251   0.178571   \n",
       "\n",
       "   Temperature_50m  Air_Density_50m  Direction_100m  Speed_100m  \\\n",
       "0         0.218502         0.752212        0.484680    0.047716   \n",
       "1         0.214832         0.755162        0.473538    0.053299   \n",
       "2         0.211009         0.758112        0.462396    0.061421   \n",
       "3         0.207187         0.764012        0.459610    0.072589   \n",
       "4         0.203364         0.766962        0.456825    0.084772   \n",
       "\n",
       "   Temperature_100m  Air_Density_100m  Direction_150m  Speed_150m  \\\n",
       "0          0.218502          0.752212        0.515320    0.019504   \n",
       "1          0.214832          0.755162        0.459610    0.024823   \n",
       "2          0.211009          0.758112        0.431755    0.032624   \n",
       "3          0.207187          0.764012        0.417827    0.042908   \n",
       "4          0.203364          0.766962        0.412256    0.054610   \n",
       "\n",
       "   Temperature_150m  Air_Density_150m  Park_Power_[KW]  \n",
       "0          0.218502          0.752212         0.690394  \n",
       "1          0.214832          0.755162         0.690394  \n",
       "2          0.211009          0.758112         0.690394  \n",
       "3          0.207187          0.764012         0.690394  \n",
       "4          0.203364          0.766962         0.690394  "
      ]
     },
     "execution_count": 130,
     "metadata": {},
     "output_type": "execute_result"
    }
   ],
   "source": [
    "import pandas as pd\n",
    "import numpy as np\n",
    "\n",
    "# drive_path = 'drive/My Drive/Colab Notebooks/WP_Datasets_Normalized/'\n",
    "# Cebrina's   Path: C:\\Users\\cebri\\Documents\\Wind Power Estimation\\Data\n",
    "# Guillermo's Path: C:\\DTU\\\\02456 - Deep Learning\\Project\\Datasets\n",
    "# Tomi's      Path: C:\\Users\\PC\\Documents\\GitHub\\WindPower_Estimation\n",
    "\n",
    "dataPath = r'C:\\Users\\PC\\Documents\\GitHub\\WindPower_Estimation'\n",
    "\n",
    "dataset_train_1 = pd.read_csv(dataPath+'\\Case1\\Dataset_Train_1.csv', )\n",
    "dataset_test_1 = pd.read_csv(dataPath+'\\Case1\\Dataset_Test_1.csv')\n",
    "\n",
    "dataset_train_1.head()"
   ]
  },
  {
   "cell_type": "markdown",
   "metadata": {
    "id": "xSItPJipBaZ5"
   },
   "source": [
    "## Library"
   ]
  },
  {
   "cell_type": "code",
   "execution_count": 131,
   "metadata": {
    "id": "wb-Z7wNKUJko"
   },
   "outputs": [],
   "source": [
    "import numpy as np\n",
    "import matplotlib.pyplot as plt\n",
    "import pandas as pd\n",
    "import torch\n",
    "import torch.nn as nn\n",
    "from torch.autograd import Variable\n",
    "from sklearn.preprocessing import MinMaxScaler"
   ]
  },
  {
   "cell_type": "markdown",
   "metadata": {
    "id": "e31mswiSBEEB"
   },
   "source": [
    "## Data Plot"
   ]
  },
  {
   "cell_type": "code",
   "execution_count": 151,
   "metadata": {
    "scrolled": true
   },
   "outputs": [],
   "source": [
    "# Full set\n",
    "training_set_X = dataset_train_1[['Speed_50m', 'Direction_50m'  ]]\n",
    "training_set_Y = dataset_train_1[['Park_Power_[KW]'  ]]\n",
    "\n",
    "test_set_X = dataset_test_1[[ 'Speed_50m', 'Direction_50m' ]]\n",
    "test_set_Y = dataset_test_1[[ 'Park_Power_[KW]'  ]]\n",
    "\n",
    "training_set_X_numpy = training_set_X.to_numpy()\n",
    "training_set_Y_numpy = training_set_Y.to_numpy()\n",
    "test_set_X_numpy = test_set_X.to_numpy()\n",
    "test_set_Y_numpy = test_set_Y.to_numpy()\n",
    "\n",
    "\n"
   ]
  },
  {
   "cell_type": "code",
   "execution_count": 154,
   "metadata": {},
   "outputs": [],
   "source": [
    "def custom_ts_multi_data_prep(dataset, target, start, window, horizon=0, end= None):\n",
    "    '''\n",
    "    dataset: the datas that we know and want to predict from, numpy array\n",
    "    target:  the datas that we want to predict, used for error calculation\n",
    "    start:   with which indice to start\n",
    "    window:  how many timestamp we use from the the past, how wide is the window\n",
    "    horizon: how many future target values are demanded\n",
    "    '''\n",
    "    X = []\n",
    "    y = []\n",
    "    start = start + window\n",
    "    if end is None:\n",
    "        end = dataset.shape[0] - horizon\n",
    "    \n",
    "    for i in range(start, end):\n",
    "        indices = range(i-window, i)\n",
    "        X.append(dataset[indices])\n",
    "        indicey = range(i, i+horizon)\n",
    "        y.append(target[indicey])\n",
    "    return np.array(X), np.array(y) "
   ]
  },
  {
   "cell_type": "code",
   "execution_count": 163,
   "metadata": {},
   "outputs": [
    {
     "data": {
      "text/plain": [
       "tensor([[0.1357, 0.4791],\n",
       "        [0.1473, 0.4819],\n",
       "        [0.1616, 0.4875],\n",
       "        [0.1786, 0.4903]])"
      ]
     },
     "execution_count": 163,
     "metadata": {},
     "output_type": "execute_result"
    }
   ],
   "source": [
    "hist_window = 4\n",
    "TRAIN_SPLIT = 30000\n",
    "x_train, y_train = custom_ts_multi_data_prep(training_set_X_numpy,  training_set_Y_numpy,  start=0,  window=hist_window,  horizon=0)\n",
    "x_test,  y_test  = custom_ts_multi_data_prep(test_set_X_numpy,  test_set_Y_numpy,  start=0,  window=hist_window,  horizon=horizon)\n",
    "\n",
    "\n",
    "trainX = Variable(torch.Tensor(np.array(x_train)))\n",
    "trainY = Variable(torch.Tensor(np.array(y_train)))\n",
    "\n",
    "trainX[1]"
   ]
  },
  {
   "cell_type": "code",
   "execution_count": null,
   "metadata": {},
   "outputs": [],
   "source": []
  },
  {
   "cell_type": "code",
   "execution_count": 57,
   "metadata": {
    "colab": {
     "base_uri": "https://localhost:8080/",
     "height": 265
    },
    "id": "ooQPXSYhA_ps",
    "outputId": "c8a8d767-3917-4767-99a9-121d68703f64"
   },
   "outputs": [
    {
     "name": "stdout",
     "output_type": "stream",
     "text": [
      "(117764,)\n",
      "(117764, 1)\n",
      "(117764, 1)\n"
     ]
    },
    {
     "data": {
      "image/png": "[encoded data removed]",
      "text/plain": [
       "<Figure size 432x288 with 1 Axes>"
      ]
     },
     "metadata": {
      "needs_background": "light"
     },
     "output_type": "display_data"
    }
   ],
   "source": [
    "# Full set\n",
    "training_set = dataset_train_1['Park_Power_[KW]']\n",
    "test_set = dataset_test_1['Park_Power_[KW]']\n",
    "\n",
    "#This weird transformation is only to use the same array structure the original code was already using\n",
    "training_set = training_set.values\n",
    "print( training_set.shape )\n",
    "test_set = test_set.values\n",
    "full_set = np.concatenate((training_set,test_set))\n",
    "training_set = np.transpose([np.transpose(training_set)])\n",
    "test_set = np.transpose([np.transpose(test_set)])\n",
    "full_set = np.transpose([np.transpose(full_set)])\n",
    "\n",
    "print( training_set.shape )\n",
    "print( training_set.shape )\n",
    "\n",
    "plt.plot(training_set, label = 'Park_Power_[KW]')\n",
    "plt.show()"
   ]
  },
  {
   "cell_type": "markdown",
   "metadata": {
    "id": "NabsV8O5BBd5"
   },
   "source": [
    "## Dataloading"
   ]
  },
  {
   "cell_type": "code",
   "execution_count": 75,
   "metadata": {
    "id": "vIWvJCpOVmwU"
   },
   "outputs": [
    {
     "name": "stdout",
     "output_type": "stream",
     "text": [
      "[0.14202494]\n",
      "===================\n",
      "[[0.12458853]\n",
      " [0.14202494]]\n"
     ]
    }
   ],
   "source": [
    "def sliding_windows(data, seq_length):\n",
    "    x = []\n",
    "    y = []\n",
    "\n",
    "    for i in range(len(data)-seq_length-1):\n",
    "        _x = data[i:(i+seq_length)]\n",
    "        _y = data[i+seq_length]\n",
    "        x.append(_x)\n",
    "        y.append(_y)\n",
    "\n",
    "    return np.array(x),np.array(y)\n",
    "\n",
    "#sc = MinMaxScaler() #This isn't necessary as data is already normalized\n",
    "#training_data = sc.fit_transform(training_set)\n",
    "\n",
    "seq_length = 2\n",
    "\n",
    "#print( training_set )\n",
    "x, y = sliding_windows(training_set, seq_length)\n",
    "\n",
    "trainX = Variable(torch.Tensor(np.array(x)))\n",
    "trainY = Variable(torch.Tensor(np.array(y)))\n",
    "\n",
    "#x, y = sliding_windows(test_set, seq_length)\n",
    "#testX = Variable(torch.Tensor(np.array(x)))\n",
    "#testY = Variable(torch.Tensor(np.array(y)))\n",
    "\n",
    "#x, y = sliding_windows(full_set, seq_length)\n",
    "#dataX = Variable(torch.Tensor(np.array(x)))\n",
    "#dataY = Variable(torch.Tensor(np.array(y)))"
   ]
  },
  {
   "cell_type": "markdown",
   "metadata": {
    "id": "--1LVbHOBSIy"
   },
   "source": [
    "## Model"
   ]
  },
  {
   "cell_type": "code",
   "execution_count": 160,
   "metadata": {
    "id": "_BcDEjcABRVz"
   },
   "outputs": [],
   "source": [
    "class LSTM(nn.Module):\n",
    "\n",
    "    def __init__(self, num_classes, input_size, hidden_size, num_layers):\n",
    "        super(LSTM, self).__init__()\n",
    "        \n",
    "        self.num_classes = num_classes\n",
    "        self.num_layers = num_layers\n",
    "        self.input_size = input_size\n",
    "        self.hidden_size = hidden_size\n",
    "        self.seq_length = seq_length\n",
    "        \n",
    "        self.lstm = nn.LSTM(input_size=input_size, hidden_size=hidden_size,\n",
    "                            num_layers=num_layers, batch_first=True)\n",
    "        \n",
    "        self.fc = nn.Linear(hidden_size, num_classes)\n",
    "\n",
    "    def forward(self, x):\n",
    "        h_0 = Variable(torch.zeros(\n",
    "            self.num_layers, x.size(0), self.hidden_size))\n",
    "        \n",
    "        c_0 = Variable(torch.zeros(\n",
    "            self.num_layers, x.size(0), self.hidden_size))\n",
    "        \n",
    "        # Propagate input through LSTM\n",
    "        ula, (h_out, _) = self.lstm(x, (h_0, c_0))\n",
    "        \n",
    "        h_out = h_out.view(-1, self.hidden_size)\n",
    "        \n",
    "        out = self.fc(h_out)\n",
    "        \n",
    "        return out"
   ]
  },
  {
   "cell_type": "markdown",
   "metadata": {
    "id": "tdzFI5GJBUF5"
   },
   "source": [
    "## Training"
   ]
  },
  {
   "cell_type": "code",
   "execution_count": 161,
   "metadata": {
    "colab": {
     "base_uri": "https://localhost:8080/"
    },
    "id": "a2vvHeFgVtCp",
    "outputId": "5f509248-697f-4595-deb6-d6b306ce4707"
   },
   "outputs": [
    {
     "ename": "RuntimeError",
     "evalue": "input.size(-1) must be equal to input_size. Expected 4, got 2",
     "output_type": "error",
     "traceback": [
      "\u001b[1;31m---------------------------------------------------------------------------\u001b[0m",
      "\u001b[1;31mRuntimeError\u001b[0m                              Traceback (most recent call last)",
      "\u001b[1;32m<ipython-input-161-016e7c52af85>\u001b[0m in \u001b[0;36m<module>\u001b[1;34m\u001b[0m\n\u001b[0;32m     16\u001b[0m \u001b[1;31m# Train the model\u001b[0m\u001b[1;33m\u001b[0m\u001b[1;33m\u001b[0m\u001b[1;33m\u001b[0m\u001b[0m\n\u001b[0;32m     17\u001b[0m \u001b[1;32mfor\u001b[0m \u001b[0mepoch\u001b[0m \u001b[1;32min\u001b[0m \u001b[0mrange\u001b[0m\u001b[1;33m(\u001b[0m\u001b[0mnum_epochs\u001b[0m\u001b[1;33m)\u001b[0m\u001b[1;33m:\u001b[0m\u001b[1;33m\u001b[0m\u001b[1;33m\u001b[0m\u001b[0m\n\u001b[1;32m---> 18\u001b[1;33m     \u001b[0moutputs\u001b[0m \u001b[1;33m=\u001b[0m \u001b[0mlstm\u001b[0m\u001b[1;33m(\u001b[0m\u001b[0mtrainX\u001b[0m\u001b[1;33m)\u001b[0m\u001b[1;33m\u001b[0m\u001b[1;33m\u001b[0m\u001b[0m\n\u001b[0m\u001b[0;32m     19\u001b[0m     \u001b[0moptimizer\u001b[0m\u001b[1;33m.\u001b[0m\u001b[0mzero_grad\u001b[0m\u001b[1;33m(\u001b[0m\u001b[1;33m)\u001b[0m\u001b[1;33m\u001b[0m\u001b[1;33m\u001b[0m\u001b[0m\n\u001b[0;32m     20\u001b[0m \u001b[1;33m\u001b[0m\u001b[0m\n",
      "\u001b[1;32mC:\\ProgramData\\Anaconda3\\lib\\site-packages\\torch\\nn\\modules\\module.py\u001b[0m in \u001b[0;36m_call_impl\u001b[1;34m(self, *input, **kwargs)\u001b[0m\n\u001b[0;32m   1100\u001b[0m         if not (self._backward_hooks or self._forward_hooks or self._forward_pre_hooks or _global_backward_hooks\n\u001b[0;32m   1101\u001b[0m                 or _global_forward_hooks or _global_forward_pre_hooks):\n\u001b[1;32m-> 1102\u001b[1;33m             \u001b[1;32mreturn\u001b[0m \u001b[0mforward_call\u001b[0m\u001b[1;33m(\u001b[0m\u001b[1;33m*\u001b[0m\u001b[0minput\u001b[0m\u001b[1;33m,\u001b[0m \u001b[1;33m**\u001b[0m\u001b[0mkwargs\u001b[0m\u001b[1;33m)\u001b[0m\u001b[1;33m\u001b[0m\u001b[1;33m\u001b[0m\u001b[0m\n\u001b[0m\u001b[0;32m   1103\u001b[0m         \u001b[1;31m# Do not call functions when jit is used\u001b[0m\u001b[1;33m\u001b[0m\u001b[1;33m\u001b[0m\u001b[1;33m\u001b[0m\u001b[0m\n\u001b[0;32m   1104\u001b[0m         \u001b[0mfull_backward_hooks\u001b[0m\u001b[1;33m,\u001b[0m \u001b[0mnon_full_backward_hooks\u001b[0m \u001b[1;33m=\u001b[0m \u001b[1;33m[\u001b[0m\u001b[1;33m]\u001b[0m\u001b[1;33m,\u001b[0m \u001b[1;33m[\u001b[0m\u001b[1;33m]\u001b[0m\u001b[1;33m\u001b[0m\u001b[1;33m\u001b[0m\u001b[0m\n",
      "\u001b[1;32m<ipython-input-160-f5413bb2c575>\u001b[0m in \u001b[0;36mforward\u001b[1;34m(self, x)\u001b[0m\n\u001b[0;32m     23\u001b[0m \u001b[1;33m\u001b[0m\u001b[0m\n\u001b[0;32m     24\u001b[0m         \u001b[1;31m# Propagate input through LSTM\u001b[0m\u001b[1;33m\u001b[0m\u001b[1;33m\u001b[0m\u001b[1;33m\u001b[0m\u001b[0m\n\u001b[1;32m---> 25\u001b[1;33m         \u001b[0mula\u001b[0m\u001b[1;33m,\u001b[0m \u001b[1;33m(\u001b[0m\u001b[0mh_out\u001b[0m\u001b[1;33m,\u001b[0m \u001b[0m_\u001b[0m\u001b[1;33m)\u001b[0m \u001b[1;33m=\u001b[0m \u001b[0mself\u001b[0m\u001b[1;33m.\u001b[0m\u001b[0mlstm\u001b[0m\u001b[1;33m(\u001b[0m\u001b[0mx\u001b[0m\u001b[1;33m,\u001b[0m \u001b[1;33m(\u001b[0m\u001b[0mh_0\u001b[0m\u001b[1;33m,\u001b[0m \u001b[0mc_0\u001b[0m\u001b[1;33m)\u001b[0m\u001b[1;33m)\u001b[0m\u001b[1;33m\u001b[0m\u001b[1;33m\u001b[0m\u001b[0m\n\u001b[0m\u001b[0;32m     26\u001b[0m \u001b[1;33m\u001b[0m\u001b[0m\n\u001b[0;32m     27\u001b[0m         \u001b[0mh_out\u001b[0m \u001b[1;33m=\u001b[0m \u001b[0mh_out\u001b[0m\u001b[1;33m.\u001b[0m\u001b[0mview\u001b[0m\u001b[1;33m(\u001b[0m\u001b[1;33m-\u001b[0m\u001b[1;36m1\u001b[0m\u001b[1;33m,\u001b[0m \u001b[0mself\u001b[0m\u001b[1;33m.\u001b[0m\u001b[0mhidden_size\u001b[0m\u001b[1;33m)\u001b[0m\u001b[1;33m\u001b[0m\u001b[1;33m\u001b[0m\u001b[0m\n",
      "\u001b[1;32mC:\\ProgramData\\Anaconda3\\lib\\site-packages\\torch\\nn\\modules\\module.py\u001b[0m in \u001b[0;36m_call_impl\u001b[1;34m(self, *input, **kwargs)\u001b[0m\n\u001b[0;32m   1100\u001b[0m         if not (self._backward_hooks or self._forward_hooks or self._forward_pre_hooks or _global_backward_hooks\n\u001b[0;32m   1101\u001b[0m                 or _global_forward_hooks or _global_forward_pre_hooks):\n\u001b[1;32m-> 1102\u001b[1;33m             \u001b[1;32mreturn\u001b[0m \u001b[0mforward_call\u001b[0m\u001b[1;33m(\u001b[0m\u001b[1;33m*\u001b[0m\u001b[0minput\u001b[0m\u001b[1;33m,\u001b[0m \u001b[1;33m**\u001b[0m\u001b[0mkwargs\u001b[0m\u001b[1;33m)\u001b[0m\u001b[1;33m\u001b[0m\u001b[1;33m\u001b[0m\u001b[0m\n\u001b[0m\u001b[0;32m   1103\u001b[0m         \u001b[1;31m# Do not call functions when jit is used\u001b[0m\u001b[1;33m\u001b[0m\u001b[1;33m\u001b[0m\u001b[1;33m\u001b[0m\u001b[0m\n\u001b[0;32m   1104\u001b[0m         \u001b[0mfull_backward_hooks\u001b[0m\u001b[1;33m,\u001b[0m \u001b[0mnon_full_backward_hooks\u001b[0m \u001b[1;33m=\u001b[0m \u001b[1;33m[\u001b[0m\u001b[1;33m]\u001b[0m\u001b[1;33m,\u001b[0m \u001b[1;33m[\u001b[0m\u001b[1;33m]\u001b[0m\u001b[1;33m\u001b[0m\u001b[1;33m\u001b[0m\u001b[0m\n",
      "\u001b[1;32mC:\\ProgramData\\Anaconda3\\lib\\site-packages\\torch\\nn\\modules\\rnn.py\u001b[0m in \u001b[0;36mforward\u001b[1;34m(self, input, hx)\u001b[0m\n\u001b[0;32m    687\u001b[0m             \u001b[0mhx\u001b[0m \u001b[1;33m=\u001b[0m \u001b[0mself\u001b[0m\u001b[1;33m.\u001b[0m\u001b[0mpermute_hidden\u001b[0m\u001b[1;33m(\u001b[0m\u001b[0mhx\u001b[0m\u001b[1;33m,\u001b[0m \u001b[0msorted_indices\u001b[0m\u001b[1;33m)\u001b[0m\u001b[1;33m\u001b[0m\u001b[1;33m\u001b[0m\u001b[0m\n\u001b[0;32m    688\u001b[0m \u001b[1;33m\u001b[0m\u001b[0m\n\u001b[1;32m--> 689\u001b[1;33m         \u001b[0mself\u001b[0m\u001b[1;33m.\u001b[0m\u001b[0mcheck_forward_args\u001b[0m\u001b[1;33m(\u001b[0m\u001b[0minput\u001b[0m\u001b[1;33m,\u001b[0m \u001b[0mhx\u001b[0m\u001b[1;33m,\u001b[0m \u001b[0mbatch_sizes\u001b[0m\u001b[1;33m)\u001b[0m\u001b[1;33m\u001b[0m\u001b[1;33m\u001b[0m\u001b[0m\n\u001b[0m\u001b[0;32m    690\u001b[0m         \u001b[1;32mif\u001b[0m \u001b[0mbatch_sizes\u001b[0m \u001b[1;32mis\u001b[0m \u001b[1;32mNone\u001b[0m\u001b[1;33m:\u001b[0m\u001b[1;33m\u001b[0m\u001b[1;33m\u001b[0m\u001b[0m\n\u001b[0;32m    691\u001b[0m             result = _VF.lstm(input, hx, self._flat_weights, self.bias, self.num_layers,\n",
      "\u001b[1;32mC:\\ProgramData\\Anaconda3\\lib\\site-packages\\torch\\nn\\modules\\rnn.py\u001b[0m in \u001b[0;36mcheck_forward_args\u001b[1;34m(self, input, hidden, batch_sizes)\u001b[0m\n\u001b[0;32m    630\u001b[0m                            \u001b[0mbatch_sizes\u001b[0m\u001b[1;33m:\u001b[0m \u001b[0mOptional\u001b[0m\u001b[1;33m[\u001b[0m\u001b[0mTensor\u001b[0m\u001b[1;33m]\u001b[0m\u001b[1;33m,\u001b[0m\u001b[1;33m\u001b[0m\u001b[1;33m\u001b[0m\u001b[0m\n\u001b[0;32m    631\u001b[0m                            ):\n\u001b[1;32m--> 632\u001b[1;33m         \u001b[0mself\u001b[0m\u001b[1;33m.\u001b[0m\u001b[0mcheck_input\u001b[0m\u001b[1;33m(\u001b[0m\u001b[0minput\u001b[0m\u001b[1;33m,\u001b[0m \u001b[0mbatch_sizes\u001b[0m\u001b[1;33m)\u001b[0m\u001b[1;33m\u001b[0m\u001b[1;33m\u001b[0m\u001b[0m\n\u001b[0m\u001b[0;32m    633\u001b[0m         self.check_hidden_size(hidden[0], self.get_expected_hidden_size(input, batch_sizes),\n\u001b[0;32m    634\u001b[0m                                'Expected hidden[0] size {}, got {}')\n",
      "\u001b[1;32mC:\\ProgramData\\Anaconda3\\lib\\site-packages\\torch\\nn\\modules\\rnn.py\u001b[0m in \u001b[0;36mcheck_input\u001b[1;34m(self, input, batch_sizes)\u001b[0m\n\u001b[0;32m    203\u001b[0m                     expected_input_dim, input.dim()))\n\u001b[0;32m    204\u001b[0m         \u001b[1;32mif\u001b[0m \u001b[0mself\u001b[0m\u001b[1;33m.\u001b[0m\u001b[0minput_size\u001b[0m \u001b[1;33m!=\u001b[0m \u001b[0minput\u001b[0m\u001b[1;33m.\u001b[0m\u001b[0msize\u001b[0m\u001b[1;33m(\u001b[0m\u001b[1;33m-\u001b[0m\u001b[1;36m1\u001b[0m\u001b[1;33m)\u001b[0m\u001b[1;33m:\u001b[0m\u001b[1;33m\u001b[0m\u001b[1;33m\u001b[0m\u001b[0m\n\u001b[1;32m--> 205\u001b[1;33m             raise RuntimeError(\n\u001b[0m\u001b[0;32m    206\u001b[0m                 'input.size(-1) must be equal to input_size. Expected {}, got {}'.format(\n\u001b[0;32m    207\u001b[0m                     self.input_size, input.size(-1)))\n",
      "\u001b[1;31mRuntimeError\u001b[0m: input.size(-1) must be equal to input_size. Expected 4, got 2"
     ]
    }
   ],
   "source": [
    "num_epochs = 2000\n",
    "learning_rate = 0.01\n",
    "\n",
    "input_size = hist_window\n",
    "hidden_size = 2\n",
    "num_layers = 1\n",
    "\n",
    "num_classes = 1\n",
    "\n",
    "lstm = LSTM(num_classes, input_size, hidden_size, num_layers)\n",
    "\n",
    "criterion = torch.nn.MSELoss()    # mean-squared error for regression\n",
    "optimizer = torch.optim.Adam(lstm.parameters(), lr=learning_rate)\n",
    "#optimizer = torch.optim.SGD(lstm.parameters(), lr=learning_rate)\n",
    "\n",
    "# Train the model\n",
    "for epoch in range(num_epochs):\n",
    "    outputs = lstm(trainX)\n",
    "    optimizer.zero_grad()\n",
    "    \n",
    "    # obtain the loss function\n",
    "    loss = criterion(outputs, trainY)\n",
    "    \n",
    "    loss.backward()\n",
    "    \n",
    "    optimizer.step()\n",
    "    if epoch % 100 == 0:\n",
    "      print(\"Epoch: %d, loss: %1.5f\" % (epoch, loss.item()))"
   ]
  },
  {
   "cell_type": "markdown",
   "metadata": {
    "id": "35ndYIwIKteS"
   },
   "source": [
    "## Testing for Park Power values"
   ]
  },
  {
   "cell_type": "code",
   "execution_count": null,
   "metadata": {
    "id": "59WXMPiv4ttI"
   },
   "outputs": [],
   "source": [
    "pred_testX = []\n",
    "\n",
    "# Predicting first values of the test data with last values of train data\n",
    "# Each iteration predicts exactly 1 value and adds it to the pred_testX array\n",
    "# When items for train data cannot be fed into the LSTM, items from pred_testX are used, one by one\n",
    "\n",
    "window_test_set = np.vstack((training_set[len(training_set)-seq_length:len(training_set)],[[0],[0]]))\n",
    "x, y = sliding_windows(window_test_set, seq_length)\n",
    "dataX = Variable(torch.Tensor(np.array(x)))\n",
    "\n",
    "lstm.eval()\n",
    "test_predict = lstm(dataX)\n",
    "data_predict = test_predict.data.numpy()\n",
    "pred_testX.append(data_predict[0])\n",
    "\n",
    "for i in range(1,seq_length):\n",
    "  window_test_set = np.vstack((training_set[len(training_set)-seq_length+i:len(training_set)],pred_testX,[[0],[0]]))\n",
    "  x, y = sliding_windows(window_test_set, seq_length)\n",
    "  dataX = Variable(torch.Tensor(np.array(x)))\n",
    "\n",
    "  lstm.eval()\n",
    "  test_predict = lstm(dataX)\n",
    "  data_predict = test_predict.data.numpy()\n",
    "  pred_testX.append(data_predict[0])\n",
    "\n",
    "# Predicting rest of the 96 values exclusively with predicted data from pred_testX\n",
    "for i in range(96-seq_length):\n",
    "  window_test_set = np.vstack((pred_testX[len(pred_testX)-seq_length:len(pred_testX)],[[0],[0]]))\n",
    "  x, y = sliding_windows(window_test_set, seq_length)\n",
    "  dataX = Variable(torch.Tensor(np.array(x)))\n",
    "\n",
    "  lstm.eval()\n",
    "  test_predict = lstm(dataX)\n",
    "  data_predict = test_predict.data.numpy()\n",
    "  pred_testX.append(data_predict[0])"
   ]
  },
  {
   "cell_type": "code",
   "execution_count": null,
   "metadata": {
    "colab": {
     "base_uri": "https://localhost:8080/",
     "height": 294
    },
    "id": "CKEzO1jzKydL",
    "outputId": "8ca9c74b-c583-4476-ae96-49e4243c31d7"
   },
   "outputs": [
    {
     "data": {
      "image/png": "[encoded data removed]",
      "text/plain": [
       "<Figure size 432x288 with 1 Axes>"
      ]
     },
     "metadata": {
      "needs_background": "light"
     },
     "output_type": "display_data"
    }
   ],
   "source": [
    "# Plotting last train values with test values vs predicted values\n",
    "\n",
    "lstm.eval()\n",
    "train_predict = lstm(trainX)\n",
    "\n",
    "train_predict = train_predict.data.numpy()\n",
    "\n",
    "dataY_plot = np.vstack((training_set[len(training_set)-224:],test_set[0:97]))\n",
    "data_predict = np.vstack((train_predict[len(train_predict)-224:],pred_testX))\n",
    "\n",
    "plt.axvline(x=len(training_set[len(training_set)-224:]), c='r', linestyle='--')\n",
    "\n",
    "plt.plot(dataY_plot)\n",
    "plt.plot(data_predict)\n",
    "plt.suptitle('Time-Series Prediction')\n",
    "plt.show()"
   ]
  }
 ],
 "metadata": {
  "accelerator": "GPU",
  "colab": {
   "name": "LSTM Prediction - Power data only - Better prediction Test set",
   "provenance": []
  },
  "kernelspec": {
   "display_name": "Python 3",
   "language": "python",
   "name": "python3"
  },
  "language_info": {
   "codemirror_mode": {
    "name": "ipython",
    "version": 3
   },
   "file_extension": ".py",
   "mimetype": "text/x-python",
   "name": "python",
   "nbconvert_exporter": "python",
   "pygments_lexer": "ipython3",
   "version": "3.8.8"
  }
 },
 "nbformat": 4,
 "nbformat_minor": 1
}
