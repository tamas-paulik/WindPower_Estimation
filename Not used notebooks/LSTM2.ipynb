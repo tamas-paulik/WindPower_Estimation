{
 "cells": [
  {
   "cell_type": "markdown",
   "metadata": {
    "id": "6FIi8t8NUTEJ"
   },
   "source": [
    "# Time Series Prediction with LSTM Using PyTorch\n",
    "\n",
    "This kernel is based on *datasets* from\n",
    "\n",
    "[Time Series Forecasting with the Long Short-Term Memory Network in Python](https://machinelearningmastery.com/time-series-forecasting-long-short-term-memory-network-python/)\n",
    "\n",
    "[Time Series Prediction with LSTM Recurrent Neural Networks in Python with Keras](https://machinelearningmastery.com/time-series-prediction-lstm-recurrent-neural-networks-python-keras/)\n"
   ]
  },
  {
   "cell_type": "markdown",
   "metadata": {
    "id": "S9DqRvEBU4aL"
   },
   "source": [
    "## Load Dataset"
   ]
  },
  {
   "cell_type": "code",
   "execution_count": null,
   "metadata": {
    "colab": {
     "base_uri": "https://localhost:8080/"
    },
    "id": "B5JAorx0dJ5i",
    "outputId": "ae778a19-cbe5-44cd-9735-53caed8543b0"
   },
   "outputs": [],
   "source": []
  },
  {
   "cell_type": "code",
   "execution_count": 1,
   "metadata": {
    "colab": {
     "base_uri": "https://localhost:8080/",
     "height": 399
    },
    "id": "lJfI5TLedR6q",
    "outputId": "c2140928-6ad3-4ef4-9ac8-2d0c0772ae07"
   },
   "outputs": [
    {
     "data": {
      "text/html": [
       "<div>\n",
       "<style scoped>\n",
       "    .dataframe tbody tr th:only-of-type {\n",
       "        vertical-align: middle;\n",
       "    }\n",
       "\n",
       "    .dataframe tbody tr th {\n",
       "        vertical-align: top;\n",
       "    }\n",
       "\n",
       "    .dataframe thead th {\n",
       "        text-align: right;\n",
       "    }\n",
       "</style>\n",
       "<table border=\"1\" class=\"dataframe\">\n",
       "  <thead>\n",
       "    <tr style=\"text-align: right;\">\n",
       "      <th></th>\n",
       "      <th>Date_Time</th>\n",
       "      <th>Direction_10m</th>\n",
       "      <th>Speed_10m</th>\n",
       "      <th>Temperature_10m</th>\n",
       "      <th>Pressure_seaLevel</th>\n",
       "      <th>Air_Density_10m</th>\n",
       "      <th>Direction_50m</th>\n",
       "      <th>Speed_50m</th>\n",
       "      <th>Temperature_50m</th>\n",
       "      <th>Air_Density_50m</th>\n",
       "      <th>Direction_100m</th>\n",
       "      <th>Speed_100m</th>\n",
       "      <th>Temperature_100m</th>\n",
       "      <th>Air_Density_100m</th>\n",
       "      <th>Direction_150m</th>\n",
       "      <th>Speed_150m</th>\n",
       "      <th>Temperature_150m</th>\n",
       "      <th>Air_Density_150m</th>\n",
       "      <th>Park_Power_[KW]</th>\n",
       "    </tr>\n",
       "  </thead>\n",
       "  <tbody>\n",
       "    <tr>\n",
       "      <th>0</th>\n",
       "      <td>2017-01-07 20:15:00</td>\n",
       "      <td>0.476323</td>\n",
       "      <td>0.110000</td>\n",
       "      <td>0.218502</td>\n",
       "      <td>0.782227</td>\n",
       "      <td>0.752212</td>\n",
       "      <td>0.473538</td>\n",
       "      <td>0.127679</td>\n",
       "      <td>0.218502</td>\n",
       "      <td>0.752212</td>\n",
       "      <td>0.484680</td>\n",
       "      <td>0.047716</td>\n",
       "      <td>0.218502</td>\n",
       "      <td>0.752212</td>\n",
       "      <td>0.515320</td>\n",
       "      <td>0.019504</td>\n",
       "      <td>0.218502</td>\n",
       "      <td>0.752212</td>\n",
       "      <td>0.690394</td>\n",
       "    </tr>\n",
       "    <tr>\n",
       "      <th>1</th>\n",
       "      <td>2017-01-07 20:30:00</td>\n",
       "      <td>0.479109</td>\n",
       "      <td>0.116923</td>\n",
       "      <td>0.214832</td>\n",
       "      <td>0.781496</td>\n",
       "      <td>0.755162</td>\n",
       "      <td>0.479109</td>\n",
       "      <td>0.135714</td>\n",
       "      <td>0.214832</td>\n",
       "      <td>0.755162</td>\n",
       "      <td>0.473538</td>\n",
       "      <td>0.053299</td>\n",
       "      <td>0.214832</td>\n",
       "      <td>0.755162</td>\n",
       "      <td>0.459610</td>\n",
       "      <td>0.024823</td>\n",
       "      <td>0.214832</td>\n",
       "      <td>0.755162</td>\n",
       "      <td>0.690394</td>\n",
       "    </tr>\n",
       "    <tr>\n",
       "      <th>2</th>\n",
       "      <td>2017-01-07 20:45:00</td>\n",
       "      <td>0.481894</td>\n",
       "      <td>0.127692</td>\n",
       "      <td>0.211009</td>\n",
       "      <td>0.780216</td>\n",
       "      <td>0.758112</td>\n",
       "      <td>0.481894</td>\n",
       "      <td>0.147321</td>\n",
       "      <td>0.211009</td>\n",
       "      <td>0.758112</td>\n",
       "      <td>0.462396</td>\n",
       "      <td>0.061421</td>\n",
       "      <td>0.211009</td>\n",
       "      <td>0.758112</td>\n",
       "      <td>0.431755</td>\n",
       "      <td>0.032624</td>\n",
       "      <td>0.211009</td>\n",
       "      <td>0.758112</td>\n",
       "      <td>0.690394</td>\n",
       "    </tr>\n",
       "    <tr>\n",
       "      <th>3</th>\n",
       "      <td>2017-01-07 21:00:00</td>\n",
       "      <td>0.484680</td>\n",
       "      <td>0.140769</td>\n",
       "      <td>0.207187</td>\n",
       "      <td>0.778387</td>\n",
       "      <td>0.764012</td>\n",
       "      <td>0.487465</td>\n",
       "      <td>0.161607</td>\n",
       "      <td>0.207187</td>\n",
       "      <td>0.764012</td>\n",
       "      <td>0.459610</td>\n",
       "      <td>0.072589</td>\n",
       "      <td>0.207187</td>\n",
       "      <td>0.764012</td>\n",
       "      <td>0.417827</td>\n",
       "      <td>0.042908</td>\n",
       "      <td>0.207187</td>\n",
       "      <td>0.764012</td>\n",
       "      <td>0.690394</td>\n",
       "    </tr>\n",
       "    <tr>\n",
       "      <th>4</th>\n",
       "      <td>2017-01-07 21:15:00</td>\n",
       "      <td>0.487465</td>\n",
       "      <td>0.155385</td>\n",
       "      <td>0.203364</td>\n",
       "      <td>0.776376</td>\n",
       "      <td>0.766962</td>\n",
       "      <td>0.490251</td>\n",
       "      <td>0.178571</td>\n",
       "      <td>0.203364</td>\n",
       "      <td>0.766962</td>\n",
       "      <td>0.456825</td>\n",
       "      <td>0.084772</td>\n",
       "      <td>0.203364</td>\n",
       "      <td>0.766962</td>\n",
       "      <td>0.412256</td>\n",
       "      <td>0.054610</td>\n",
       "      <td>0.203364</td>\n",
       "      <td>0.766962</td>\n",
       "      <td>0.690394</td>\n",
       "    </tr>\n",
       "  </tbody>\n",
       "</table>\n",
       "</div>"
      ],
      "text/plain": [
       "             Date_Time  Direction_10m  Speed_10m  Temperature_10m  \\\n",
       "0  2017-01-07 20:15:00       0.476323   0.110000         0.218502   \n",
       "1  2017-01-07 20:30:00       0.479109   0.116923         0.214832   \n",
       "2  2017-01-07 20:45:00       0.481894   0.127692         0.211009   \n",
       "3  2017-01-07 21:00:00       0.484680   0.140769         0.207187   \n",
       "4  2017-01-07 21:15:00       0.487465   0.155385         0.203364   \n",
       "\n",
       "   Pressure_seaLevel  Air_Density_10m  Direction_50m  Speed_50m  \\\n",
       "0           0.782227         0.752212       0.473538   0.127679   \n",
       "1           0.781496         0.755162       0.479109   0.135714   \n",
       "2           0.780216         0.758112       0.481894   0.147321   \n",
       "3           0.778387         0.764012       0.487465   0.161607   \n",
       "4           0.776376         0.766962       0.490251   0.178571   \n",
       "\n",
       "   Temperature_50m  Air_Density_50m  Direction_100m  Speed_100m  \\\n",
       "0         0.218502         0.752212        0.484680    0.047716   \n",
       "1         0.214832         0.755162        0.473538    0.053299   \n",
       "2         0.211009         0.758112        0.462396    0.061421   \n",
       "3         0.207187         0.764012        0.459610    0.072589   \n",
       "4         0.203364         0.766962        0.456825    0.084772   \n",
       "\n",
       "   Temperature_100m  Air_Density_100m  Direction_150m  Speed_150m  \\\n",
       "0          0.218502          0.752212        0.515320    0.019504   \n",
       "1          0.214832          0.755162        0.459610    0.024823   \n",
       "2          0.211009          0.758112        0.431755    0.032624   \n",
       "3          0.207187          0.764012        0.417827    0.042908   \n",
       "4          0.203364          0.766962        0.412256    0.054610   \n",
       "\n",
       "   Temperature_150m  Air_Density_150m  Park_Power_[KW]  \n",
       "0          0.218502          0.752212         0.690394  \n",
       "1          0.214832          0.755162         0.690394  \n",
       "2          0.211009          0.758112         0.690394  \n",
       "3          0.207187          0.764012         0.690394  \n",
       "4          0.203364          0.766962         0.690394  "
      ]
     },
     "execution_count": 1,
     "metadata": {},
     "output_type": "execute_result"
    }
   ],
   "source": [
    "import pandas as pd\n",
    "import numpy as np\n",
    "\n",
    "# drive_path = 'drive/My Drive/Colab Notebooks/WP_Datasets_Normalized/'\n",
    "# Cebrina's   Path: C:\\Users\\cebri\\Documents\\Wind Power Estimation\\Data\n",
    "# Guillermo's Path: C:\\DTU\\\\02456 - Deep Learning\\Project\\Datasets\n",
    "# Tomi's      Path: C:\\Users\\PC\\Documents\\GitHub\\WindPower_Estimation\n",
    "\n",
    "dataPath = r'C:\\Users\\PC\\Documents\\GitHub\\WindPower_Estimation'\n",
    "\n",
    "dataset_train_1 = pd.read_csv(dataPath+'\\Case1\\Dataset_Train_1.csv', )\n",
    "dataset_test_1 = pd.read_csv(dataPath+'\\Case1\\Dataset_Test_1.csv')\n",
    "\n",
    "dataset_train_1.head()"
   ]
  },
  {
   "cell_type": "markdown",
   "metadata": {
    "id": "xSItPJipBaZ5"
   },
   "source": [
    "## Library"
   ]
  },
  {
   "cell_type": "code",
   "execution_count": 2,
   "metadata": {
    "id": "wb-Z7wNKUJko"
   },
   "outputs": [],
   "source": [
    "import numpy as np\n",
    "import matplotlib.pyplot as plt\n",
    "import pandas as pd\n",
    "import torch\n",
    "import torch.nn as nn\n",
    "from torch.autograd import Variable\n",
    "from sklearn.preprocessing import MinMaxScaler"
   ]
  },
  {
   "cell_type": "markdown",
   "metadata": {
    "id": "e31mswiSBEEB"
   },
   "source": [
    "## Data Plot"
   ]
  },
  {
   "cell_type": "code",
   "execution_count": 3,
   "metadata": {
    "scrolled": true
   },
   "outputs": [],
   "source": [
    "# Full set\n",
    "training_set_X = dataset_train_1[['Speed_50m', 'Direction_50m'  ]]\n",
    "training_set_Y = dataset_train_1[['Park_Power_[KW]'  ]]\n",
    "\n",
    "test_set_X = dataset_test_1[[ 'Speed_50m', 'Direction_50m' ]]\n",
    "test_set_Y = dataset_test_1[[ 'Park_Power_[KW]'  ]]\n",
    "\n",
    "training_set_X_numpy = training_set_X.to_numpy()\n",
    "training_set_Y_numpy = training_set_Y.to_numpy()\n",
    "test_set_X_numpy = test_set_X.to_numpy()\n",
    "test_set_Y_numpy = test_set_Y.to_numpy()\n",
    "\n",
    "\n"
   ]
  },
  {
   "cell_type": "code",
   "execution_count": 4,
   "metadata": {},
   "outputs": [],
   "source": [
    "def custom_ts_multi_data_prep(dataset, targetset, start, window, horizon=1, end= None):\n",
    "    '''\n",
    "    dataset: the datas that we know and want to predict from, numpy array\n",
    "    target:  the datas that we want to predict, used for error calculation\n",
    "    start:   with which indice to start\n",
    "    window:  how many timestamp we use from the the past, how wide is the window\n",
    "    horizon: how many future target values are demanded\n",
    "    '''\n",
    "    X = []\n",
    "    y = []\n",
    "    start = start + window\n",
    "    if end is None:\n",
    "        end = dataset.shape[0] - horizon\n",
    "    \n",
    "    for i in range(start, end):\n",
    "        indices = range(i-window, i)\n",
    "        X.append(dataset[indices])\n",
    "        indicey = range(i, i+horizon )\n",
    "        y.append(targetset[indicey])\n",
    "    return np.array(X), np.array(y) "
   ]
  },
  {
   "cell_type": "markdown",
   "metadata": {},
   "source": [
    "## Dataloading"
   ]
  },
  {
   "cell_type": "code",
   "execution_count": 5,
   "metadata": {},
   "outputs": [],
   "source": [
    "hist_window = 96\n",
    "how_many_PowerkW_values = 1\n",
    "TRAIN_SPLIT = 30000\n",
    "x_train, y_train = custom_ts_multi_data_prep(training_set_X_numpy,  training_set_Y_numpy,  start=0,  window=hist_window,  horizon=how_many_PowerkW_values)\n",
    "x_test,  y_test  = custom_ts_multi_data_prep(test_set_X_numpy,  test_set_Y_numpy,  start=0,  window=hist_window,  horizon=how_many_PowerkW_values)\n",
    "\n",
    "\n",
    "trainX = Variable(torch.Tensor(np.array(x_train)) )\n",
    "trainY = Variable(torch.Tensor(np.array(y_train)) )\n",
    "testX = Variable(torch.Tensor(np.array(x_test)) )\n",
    "testY = Variable(torch.Tensor(np.array(y_test)) )\n",
    " \n",
    "# #  ----Debug----   \n",
    "# print('Multiple window of past history\\n')\n",
    "# print( trainX[1]  )\n",
    "# print('Target horizon\\n')\n",
    "# print(trainY.shape ) \n",
    "\n",
    "# print( len(trainX[1]))\n",
    "# print(trainX[1].reshape(-1) ) "
   ]
  },
  {
   "cell_type": "markdown",
   "metadata": {},
   "source": [
    "## Model"
   ]
  },
  {
   "cell_type": "code",
   "execution_count": 6,
   "metadata": {},
   "outputs": [],
   "source": [
    "class LSTM(nn.Module):\n",
    "\n",
    "    def __init__(self,  num_features, num_hidden, seq_len, batch_size,  num_layers=1):\n",
    "        super(LSTM, self).__init__()\n",
    "        \n",
    "        self.num_layers = num_layers\n",
    "        self.input_size = num_features\n",
    "        self.seq_len = seq_len\n",
    "        self.hidden_size = num_hidden\n",
    "#         self.seq_length = seq_length\n",
    "        \n",
    "    \n",
    "        # Recurrent layer\n",
    "        self.lstm = nn.LSTM(input_size=num_features, hidden_size=num_hidden,\n",
    "                            num_layers=num_layers, dropout=0.02, batch_first=True ) #dropout=0.1\n",
    "        \n",
    "        # Output layer\n",
    "#         self.fc1 = nn.Linear(hidden_size, hidden_size)\n",
    "        self.relu = nn.ReLU()\n",
    "        self.fc2 = nn.Linear(hidden_size, 1) #output_size=1\n",
    "\n",
    "    \n",
    "    \n",
    "    def forward(self, x):\n",
    "        # Initializing hidden state for first input with zeros\n",
    "        h_0 = Variable(torch.zeros(\n",
    "            self.num_layers, x.size(0), self.hidden_size)).to('cuda')  #.cuda()\n",
    "        \n",
    "#         print( x.size(0) )\n",
    "#         print('================')\n",
    "        # Initializing cell state for first input with zeros\n",
    "        c_0 = Variable(torch.zeros(\n",
    "            self.num_layers, x.size(0), self.hidden_size)).to('cuda')   #.cuda()\n",
    "        \n",
    "        # Propagate input through LSTM\n",
    "#         print('test::::')\n",
    "#         print(h_0.shape)\n",
    "#         print(c_0.shape)\n",
    "#         print(x.shape)\n",
    "        #print(x.view(seq_len, 1))\n",
    "        \n",
    "#         print(f'input size: {x.shape}' )\n",
    "        x_output, (hn, cn) = self.lstm( x, (h_0, c_0))   #x.view( len(x), self.seq_len, self.hidden_size)\n",
    "        \n",
    "#         print( x_output.shape )\n",
    "#         print( x_output[0:128 , 0:1, :1].shape)\n",
    "        \n",
    "        lstm_out = x_output[-1].view(-1, self.hidden_size)  #h_out[-1] should be the results from the last LSTM layer\n",
    "#         last_time_step = lstm_out.view(self.seq_len, len(x), self.n_hidden)[-1]\n",
    "#         x_output = self.relu( self.fc1( x_output ) )\n",
    "        y_pred = self.relu( self.fc2(x_output ) )\n",
    "    \n",
    "        return torch.squeeze( y_pred[0:y_pred.size(0) ,-1, :1], 1 )\n"
   ]
  },
  {
   "cell_type": "code",
   "execution_count": 7,
   "metadata": {},
   "outputs": [
    {
     "name": "stdout",
     "output_type": "stream",
     "text": [
      "(117764, 2)\n"
     ]
    }
   ],
   "source": [
    "class TimeseriesDataset(torch.utils.data.Dataset):   \n",
    "    def __init__(self, X, y, seq_len=1):\n",
    "        self.X = X\n",
    "        self.y = y\n",
    "        self.seq_len = seq_len\n",
    "\n",
    "    def __len__(self):\n",
    "        return self.X.__len__() - (self.seq_len-1)\n",
    "\n",
    "    def __getitem__(self, index):\n",
    "        return (self.X[index:index+self.seq_len], self.y[index+self.seq_len-1])\n",
    "    \n",
    "    \n",
    "batch_siz = 672\n",
    "print( training_set_X_numpy.shape)\n",
    "\n",
    "train_dataset = TimeseriesDataset(training_set_X_numpy, training_set_Y_numpy, seq_len=8)\n",
    "train_loader = torch.utils.data.DataLoader(train_dataset, batch_size = batch_siz, shuffle = False)\n",
    "\n",
    "# for i, d in enumerate(train_loader):\n",
    "#     print(i, d[0].shape, d[1].shape)"
   ]
  },
  {
   "cell_type": "code",
   "execution_count": 8,
   "metadata": {
    "scrolled": true
   },
   "outputs": [
    {
     "name": "stdout",
     "output_type": "stream",
     "text": [
      "shape training: (117764, 2)\n",
      "training remainder: 164\n",
      "training remainder: 0\n",
      "shape training2: (117600, 2)\n",
      "\n",
      "shape test: (29441, 2)\n",
      "test remainder: 545\n",
      "test remainder: 0\n",
      "shape training2: (28896, 2)\n",
      "\n"
     ]
    },
    {
     "name": "stderr",
     "output_type": "stream",
     "text": [
      "C:\\ProgramData\\Anaconda3\\lib\\site-packages\\torch\\nn\\modules\\rnn.py:62: UserWarning: dropout option adds dropout after all but last recurrent layer, so non-zero dropout expects num_layers greater than 1, but got dropout=0.02 and num_layers=1\n",
      "  warnings.warn(\"dropout option adds dropout after all but last \"\n"
     ]
    },
    {
     "name": "stdout",
     "output_type": "stream",
     "text": [
      "run on cuda\n",
      "True\n",
      "LSTM(\n",
      "  (lstm): LSTM(2, 20, batch_first=True, dropout=0.02)\n",
      "  (relu): ReLU()\n",
      "  (fc2): Linear(in_features=20, out_features=1, bias=True)\n",
      ")\n",
      "new epoch, number0\n"
     ]
    },
    {
     "name": "stderr",
     "output_type": "stream",
     "text": [
      "C:\\ProgramData\\Anaconda3\\lib\\site-packages\\torch\\nn\\modules\\loss.py:520: UserWarning: Using a target size (torch.Size([672, 1])) that is different to the input size (torch.Size([672])). This will likely lead to incorrect results due to broadcasting. Please ensure they have the same size.\n",
      "  return F.mse_loss(input, target, reduction=self.reduction)\n",
      "C:\\ProgramData\\Anaconda3\\lib\\site-packages\\torch\\nn\\modules\\loss.py:520: UserWarning: Using a target size (torch.Size([577, 1])) that is different to the input size (torch.Size([577])). This will likely lead to incorrect results due to broadcasting. Please ensure they have the same size.\n",
      "  return F.mse_loss(input, target, reduction=self.reduction)\n"
     ]
    },
    {
     "name": "stdout",
     "output_type": "stream",
     "text": [
      "Epoch: 0, train loss: 0.000138042,  test loss: 0.000181583\n",
      "new epoch, number1\n",
      "Epoch: 1, train loss: 0.000132727,  test loss: 0.000181920\n",
      "new epoch, number2\n",
      "Epoch: 2, train loss: 0.000131388,  test loss: 0.000182332\n",
      "new epoch, number3\n",
      "Epoch: 3, train loss: 0.000130544,  test loss: 0.000182570\n",
      "new epoch, number4\n",
      "Epoch: 4, train loss: 0.000129921,  test loss: 0.000182723\n",
      "new epoch, number5\n",
      "Epoch: 5, train loss: 0.000129433,  test loss: 0.000182816\n",
      "new epoch, number6\n",
      "Epoch: 6, train loss: 0.000129034,  test loss: 0.000182867\n",
      "new epoch, number7\n",
      "Epoch: 7, train loss: 0.000128698,  test loss: 0.000182888\n",
      "new epoch, number8\n",
      "Epoch: 8, train loss: 0.000128411,  test loss: 0.000182907\n",
      "new epoch, number9\n",
      "Epoch: 9, train loss: 0.000128161,  test loss: 0.000182890\n",
      "new epoch, number10\n",
      "Epoch: 10, train loss: 0.000127965,  test loss: 0.000182888\n",
      "new epoch, number11\n",
      "Epoch: 11, train loss: 0.000127782,  test loss: 0.000182939\n",
      "new epoch, number12\n",
      "Epoch: 12, train loss: 0.000127566,  test loss: 0.000182915\n",
      "new epoch, number13\n",
      "Epoch: 13, train loss: 0.000127410,  test loss: 0.000182894\n",
      "new epoch, number14\n",
      "Epoch: 14, train loss: 0.000127264,  test loss: 0.000182875\n",
      "new epoch, number15\n",
      "Epoch: 15, train loss: 0.000127129,  test loss: 0.000182859\n",
      "new epoch, number16\n",
      "Epoch: 16, train loss: 0.000127003,  test loss: 0.000182845\n",
      "new epoch, number17\n",
      "Epoch: 17, train loss: 0.000126885,  test loss: 0.000182833\n",
      "new epoch, number18\n",
      "Epoch: 18, train loss: 0.000126775,  test loss: 0.000182821\n",
      "new epoch, number19\n",
      "Epoch: 19, train loss: 0.000126671,  test loss: 0.000182811\n"
     ]
    }
   ],
   "source": [
    "num_epochs = 20\n",
    "learning_rate = 0.001\n",
    "hist_window \n",
    "n_features = 2\n",
    "hidden_size = 20\n",
    "num_layers = 1\n",
    "\n",
    "batch_size = 672\n",
    "num_samples_train = len( training_set_X_numpy )\n",
    "num_batches_train = (num_samples_train // batch_size ) \n",
    "num_samples_test = len( test_set_X_numpy )\n",
    "num_batches_test = (num_samples_test // batch_size ) \n",
    "\n",
    "#-----------------------------------------------------------------------------------\n",
    "print(f'shape training: {( training_set_X_numpy.shape)}')\n",
    "remainder_train = len( training_set_X_numpy)%batch_size\n",
    "print(f'training remainder: {remainder_train}')\n",
    "\n",
    "for rem in range( remainder_train):\n",
    "    training_set_X_numpy = np.delete( training_set_X_numpy, 0, axis=0)\n",
    "    \n",
    "remainder2_train = len( training_set_X_numpy)%batch_size\n",
    "print(f'training remainder: {remainder2_train}')\n",
    "print(f'shape training2: { ( training_set_X_numpy.shape)}')\n",
    "#------------------------------------------------------------------------------------\n",
    "\n",
    "print()\n",
    "print(f'shape test: {( test_set_X_numpy.shape)}')\n",
    "remainder_test = len( test_set_X_numpy)%batch_size\n",
    "print(f'test remainder: {remainder_test}')\n",
    "for rem in range( remainder_test):\n",
    "    test_set_X_numpy = np.delete( test_set_X_numpy, 0, axis=0)\n",
    "remainder2_test = len( test_set_X_numpy)%batch_size\n",
    "print(f'test remainder: {remainder2_test}')\n",
    "print(f'shape training2: { ( test_set_X_numpy.shape)}')\n",
    "#------------------------------------------------------------------------------------\n",
    "print()\n",
    "\n",
    "\n",
    "\n",
    "lstm = LSTM(num_features=n_features, num_hidden=hidden_size, seq_len=hist_window, num_layers=num_layers, batch_size=batch_size )\n",
    "device = torch.device(\"cuda\" if torch.cuda.is_available() else \"cpu\")\n",
    "\n",
    "use_cuda = torch.cuda.is_available()\n",
    "if use_cuda:\n",
    "    lstm.to(device)\n",
    "    print('run on cuda')\n",
    "    print( next(lstm.parameters()).is_cuda )\n",
    "print(lstm)\n",
    "\n",
    "criterion = torch.nn.MSELoss()    # mean-squared error for regression\n",
    "optimizer = torch.optim.Adam(lstm.parameters(), lr=learning_rate)\n",
    "#optimizer = torch.optim.SGD(lstm.parameters(), lr=learning_rate)\n",
    "\n",
    "\n",
    "\n",
    "train_loss_out = []\n",
    "test_loss_out = []\n",
    "\n",
    "\n",
    "# Train the model\n",
    "for epoch in range(num_epochs):\n",
    "    \n",
    "    \n",
    "    train_dataset = TimeseriesDataset(training_set_X_numpy, training_set_Y_numpy, seq_len=96) \n",
    "    train_loader = iter( torch.utils.data.DataLoader(train_dataset, batch_size = batch_siz, shuffle = False))\n",
    "    \n",
    "    lstm.train()\n",
    "    print( f'new epoch, number{epoch}')\n",
    "    \n",
    "    batch_train_losses = 0\n",
    "    # For each sentence in training set\n",
    "    for index in range( num_batches_train ):\n",
    "        optimizer.zero_grad()\n",
    "        x, y = train_loader.next()\n",
    "        x= x.to('cuda')\n",
    "        y= y.to('cuda') \n",
    "        \n",
    "#         print(index)\n",
    "#         print( x.shape )\n",
    "\n",
    "        outputs = lstm(  x.float() )\n",
    "\n",
    "\n",
    "        # obtain the loss function\n",
    "#         print('++++++++')\n",
    "#         print(outputs.shape)\n",
    "# #         print(outputs )\n",
    "# #         print(outputs)\n",
    "#         print(y.shape)\n",
    "        train_loss = criterion(outputs, y.float())\n",
    "\n",
    "        train_loss.backward()\n",
    "\n",
    "        optimizer.step()\n",
    "        batch_train_losses += train_loss.cpu().detach().numpy()\n",
    "\n",
    "#     training_loss = torch.mean(torch.stack (batch_train_losses)  )\n",
    "    train_loss_out.append( batch_train_losses/training_set_X_numpy.shape[0]  )\n",
    "        \n",
    "        \n",
    "#         optimizer.step()\n",
    "#         batch_train_losses.append(train_loss)\n",
    "    \n",
    "#     training_loss = torch.mean(torch.stack (batch_train_losses)  )\n",
    "#     train_loss_out.append(training_loss.item())\n",
    "    \n",
    "    \n",
    "    \n",
    "#         validation_loss = torch.mean(torch.stack (batch_val_losses)  )\n",
    "#         val_loss_out.append(validation_loss.item())\n",
    "#     train_loss.append(loss.item())\n",
    " \n",
    "    test_dataset = TimeseriesDataset( test_set_X_numpy, test_set_Y_numpy, seq_len=96) \n",
    "    test_loader = iter( torch.utils.data.DataLoader(test_dataset, batch_size = batch_siz, shuffle = False))\n",
    "    \n",
    "    lstm.eval()\n",
    "    with torch.no_grad():\n",
    "        batch_val_losses = 0\n",
    "        for index in range( num_batches_test ):\n",
    "            x_val, y_val = test_loader.next()\n",
    "            x_val = x_val.to('cuda')\n",
    "            y_val = y_val.to('cuda') \n",
    "\n",
    "            outputs = lstm(  x.float() )\n",
    "\n",
    "            val_loss = criterion(outputs, y.float())\n",
    "            batch_val_losses += val_loss.cpu().detach().numpy()\n",
    "        test_loss_out.append( batch_val_losses/test_set_X_numpy.shape[0]  )   \n",
    "        \n",
    "        \n",
    "#             batch_val_losses.append(val_loss)\n",
    "#         validation_loss = torch.mean(torch.stack (batch_val_losses)  )\n",
    "#         val_loss_out.append(validation_loss.item())\n",
    "    \n",
    "    print(\"Epoch: %d, train loss: %1.9f,  test loss: %1.9f\" % (epoch, train_loss_out[-1], test_loss_out[-1] ) )"
   ]
  },
  {
   "cell_type": "code",
   "execution_count": 9,
   "metadata": {},
   "outputs": [
    {
     "name": "stdout",
     "output_type": "stream",
     "text": [
      "[0.0001815830778685354, 0.00018191997272272906, 0.0001823316173007091, 0.00018256983631068752, 0.00018272334931506996, 0.000182815705470386, 0.00018286661777113165, 0.00018288790514426573, 0.00018290701943139234, 0.0001828899784457116, 0.00018288787188274519, 0.00018293900592696098, 0.00018291460305807137, 0.00018289355960275446, 0.00018287496641278267, 0.0001828589897957586, 0.00018284514191604795, 0.00018283276863041378, 0.00018282135992887474, 0.0001828106940679607]\n"
     ]
    }
   ],
   "source": [
    "print( test_loss_out   )"
   ]
  },
  {
   "cell_type": "code",
   "execution_count": 10,
   "metadata": {},
   "outputs": [
    {
     "data": {
      "image/png": "[encoded data removed]",
      "text/plain": [
       "<Figure size 432x288 with 1 Axes>"
      ]
     },
     "metadata": {
      "needs_background": "light"
     },
     "output_type": "display_data"
    }
   ],
   "source": [
    "import matplotlib.pyplot as plt\n",
    "%matplotlib inline\n",
    "epoch = np.arange( len(train_loss_out)   )\n",
    "plt.figure()\n",
    "plt.plot(epoch, train_loss_out, 'r', label='Training loss',)\n",
    "plt.plot(epoch, test_loss_out, 'b', label='Test loss')\n",
    "plt.legend()\n",
    "plt.xlabel('Epoch'), plt.ylabel('NLL')\n",
    "plt.show()"
   ]
  },
  {
   "cell_type": "code",
   "execution_count": null,
   "metadata": {},
   "outputs": [],
   "source": []
  },
  {
   "cell_type": "code",
   "execution_count": null,
   "metadata": {},
   "outputs": [],
   "source": []
  },
  {
   "cell_type": "code",
   "execution_count": null,
   "metadata": {},
   "outputs": [],
   "source": []
  },
  {
   "cell_type": "code",
   "execution_count": null,
   "metadata": {},
   "outputs": [],
   "source": []
  },
  {
   "cell_type": "markdown",
   "metadata": {
    "id": "NabsV8O5BBd5"
   },
   "source": [
    "## Dataloading"
   ]
  },
  {
   "cell_type": "markdown",
   "metadata": {
    "id": "--1LVbHOBSIy"
   },
   "source": [
    "## Model"
   ]
  },
  {
   "cell_type": "markdown",
   "metadata": {
    "id": "tdzFI5GJBUF5"
   },
   "source": [
    "## Training"
   ]
  },
  {
   "cell_type": "markdown",
   "metadata": {
    "id": "35ndYIwIKteS"
   },
   "source": [
    "## Testing for Park Power values"
   ]
  },
  {
   "cell_type": "code",
   "execution_count": 15,
   "metadata": {
    "id": "59WXMPiv4ttI"
   },
   "outputs": [
    {
     "ename": "ValueError",
     "evalue": "all the input array dimensions for the concatenation axis must match exactly, but along dimension 1, the array at index 0 has size 2 and the array at index 1 has size 1",
     "output_type": "error",
     "traceback": [
      "\u001b[1;31m---------------------------------------------------------------------------\u001b[0m",
      "\u001b[1;31mValueError\u001b[0m                                Traceback (most recent call last)",
      "\u001b[1;32m<ipython-input-15-48ea34a93697>\u001b[0m in \u001b[0;36m<module>\u001b[1;34m\u001b[0m\n\u001b[0;32m      5\u001b[0m \u001b[1;31m# When items for train data cannot be fed into the LSTM, items from pred_testX are used, one by one\u001b[0m\u001b[1;33m\u001b[0m\u001b[1;33m\u001b[0m\u001b[1;33m\u001b[0m\u001b[0m\n\u001b[0;32m      6\u001b[0m \u001b[1;33m\u001b[0m\u001b[0m\n\u001b[1;32m----> 7\u001b[1;33m \u001b[0mwindow_test_set\u001b[0m \u001b[1;33m=\u001b[0m \u001b[0mnp\u001b[0m\u001b[1;33m.\u001b[0m\u001b[0mvstack\u001b[0m\u001b[1;33m(\u001b[0m\u001b[1;33m(\u001b[0m\u001b[0mtraining_set_X\u001b[0m\u001b[1;33m[\u001b[0m\u001b[0mlen\u001b[0m\u001b[1;33m(\u001b[0m\u001b[0mtraining_set_X\u001b[0m\u001b[1;33m)\u001b[0m\u001b[1;33m-\u001b[0m\u001b[0mseq_length\u001b[0m\u001b[1;33m:\u001b[0m\u001b[0mlen\u001b[0m\u001b[1;33m(\u001b[0m\u001b[0mtraining_set_X\u001b[0m\u001b[1;33m)\u001b[0m\u001b[1;33m]\u001b[0m\u001b[1;33m,\u001b[0m\u001b[1;33m[\u001b[0m\u001b[1;33m[\u001b[0m\u001b[1;36m0\u001b[0m\u001b[1;33m]\u001b[0m\u001b[1;33m,\u001b[0m\u001b[1;33m[\u001b[0m\u001b[1;36m0\u001b[0m\u001b[1;33m]\u001b[0m\u001b[1;33m]\u001b[0m\u001b[1;33m)\u001b[0m\u001b[1;33m)\u001b[0m\u001b[1;33m\u001b[0m\u001b[1;33m\u001b[0m\u001b[0m\n\u001b[0m\u001b[0;32m      8\u001b[0m \u001b[0mx\u001b[0m\u001b[1;33m,\u001b[0m \u001b[0my\u001b[0m \u001b[1;33m=\u001b[0m \u001b[0msliding_windows\u001b[0m\u001b[1;33m(\u001b[0m\u001b[0mwindow_test_set\u001b[0m\u001b[1;33m,\u001b[0m \u001b[0mseq_length\u001b[0m\u001b[1;33m)\u001b[0m\u001b[1;33m\u001b[0m\u001b[1;33m\u001b[0m\u001b[0m\n\u001b[0;32m      9\u001b[0m \u001b[0mdataX\u001b[0m \u001b[1;33m=\u001b[0m \u001b[0mVariable\u001b[0m\u001b[1;33m(\u001b[0m\u001b[0mtorch\u001b[0m\u001b[1;33m.\u001b[0m\u001b[0mTensor\u001b[0m\u001b[1;33m(\u001b[0m\u001b[0mnp\u001b[0m\u001b[1;33m.\u001b[0m\u001b[0marray\u001b[0m\u001b[1;33m(\u001b[0m\u001b[0mx\u001b[0m\u001b[1;33m)\u001b[0m\u001b[1;33m)\u001b[0m\u001b[1;33m)\u001b[0m\u001b[1;33m\u001b[0m\u001b[1;33m\u001b[0m\u001b[0m\n",
      "\u001b[1;32m<__array_function__ internals>\u001b[0m in \u001b[0;36mvstack\u001b[1;34m(*args, **kwargs)\u001b[0m\n",
      "\u001b[1;32mC:\\ProgramData\\Anaconda3\\lib\\site-packages\\numpy\\core\\shape_base.py\u001b[0m in \u001b[0;36mvstack\u001b[1;34m(tup)\u001b[0m\n\u001b[0;32m    281\u001b[0m     \u001b[1;32mif\u001b[0m \u001b[1;32mnot\u001b[0m \u001b[0misinstance\u001b[0m\u001b[1;33m(\u001b[0m\u001b[0marrs\u001b[0m\u001b[1;33m,\u001b[0m \u001b[0mlist\u001b[0m\u001b[1;33m)\u001b[0m\u001b[1;33m:\u001b[0m\u001b[1;33m\u001b[0m\u001b[1;33m\u001b[0m\u001b[0m\n\u001b[0;32m    282\u001b[0m         \u001b[0marrs\u001b[0m \u001b[1;33m=\u001b[0m \u001b[1;33m[\u001b[0m\u001b[0marrs\u001b[0m\u001b[1;33m]\u001b[0m\u001b[1;33m\u001b[0m\u001b[1;33m\u001b[0m\u001b[0m\n\u001b[1;32m--> 283\u001b[1;33m     \u001b[1;32mreturn\u001b[0m \u001b[0m_nx\u001b[0m\u001b[1;33m.\u001b[0m\u001b[0mconcatenate\u001b[0m\u001b[1;33m(\u001b[0m\u001b[0marrs\u001b[0m\u001b[1;33m,\u001b[0m \u001b[1;36m0\u001b[0m\u001b[1;33m)\u001b[0m\u001b[1;33m\u001b[0m\u001b[1;33m\u001b[0m\u001b[0m\n\u001b[0m\u001b[0;32m    284\u001b[0m \u001b[1;33m\u001b[0m\u001b[0m\n\u001b[0;32m    285\u001b[0m \u001b[1;33m\u001b[0m\u001b[0m\n",
      "\u001b[1;32m<__array_function__ internals>\u001b[0m in \u001b[0;36mconcatenate\u001b[1;34m(*args, **kwargs)\u001b[0m\n",
      "\u001b[1;31mValueError\u001b[0m: all the input array dimensions for the concatenation axis must match exactly, but along dimension 1, the array at index 0 has size 2 and the array at index 1 has size 1"
     ]
    }
   ],
   "source": [
    "pred_testX = []\n",
    "\n",
    "# Predicting first values of the test data with last values of train data\n",
    "# Each iteration predicts exactly 1 value and adds it to the pred_testX array\n",
    "# When items for train data cannot be fed into the LSTM, items from pred_testX are used, one by one\n",
    "\n",
    "window_test_set = np.vstack( (training_set_X[len(training_set_X)-seq_length : len(training_set_X)], [[0],[0]]) )\n",
    "x, y = sliding_windows(window_test_set, seq_length)\n",
    "dataX = Variable(torch.Tensor(np.array(x)))\n",
    "\n",
    "lstm.eval()\n",
    "test_predict = lstm(dataX)\n",
    "data_predict = test_predict.data.numpy()\n",
    "pred_testX.append(data_predict[0])\n",
    "\n",
    "for i in range(1,seq_length):\n",
    "  window_test_set = np.vstack((training_set[len(training_set)-seq_length+i:len(training_set)],pred_testX,[[0],[0]]))\n",
    "  x, y = sliding_windows(window_test_set, seq_length)\n",
    "  dataX = Variable(torch.Tensor(np.array(x)))\n",
    "\n",
    "  lstm.eval()\n",
    "  test_predict = lstm(dataX)\n",
    "  data_predict = test_predict.data.numpy()\n",
    "  pred_testX.append(data_predict[0])\n",
    "\n",
    "# Predicting rest of the 96 values exclusively with predicted data from pred_testX\n",
    "for i in range(96-seq_length):\n",
    "  window_test_set = np.vstack((pred_testX[len(pred_testX)-seq_length:len(pred_testX)],[[0],[0]]))\n",
    "  x, y = sliding_windows(window_test_set, seq_length)\n",
    "  dataX = Variable(torch.Tensor(np.array(x)))\n",
    "\n",
    "  lstm.eval()\n",
    "  test_predict = lstm(dataX)\n",
    "  data_predict = test_predict.data.numpy()\n",
    "  pred_testX.append(data_predict[0])"
   ]
  },
  {
   "cell_type": "code",
   "execution_count": null,
   "metadata": {
    "colab": {
     "base_uri": "https://localhost:8080/",
     "height": 294
    },
    "id": "CKEzO1jzKydL",
    "outputId": "8ca9c74b-c583-4476-ae96-49e4243c31d7"
   },
   "outputs": [],
   "source": [
    "# Plotting last train values with test values vs predicted values\n",
    "\n",
    "lstm.eval()\n",
    "train_predict = lstm(trainX)\n",
    "\n",
    "train_predict = train_predict.data.numpy()\n",
    "\n",
    "dataY_plot = np.vstack((training_set[len(training_set)-224:],test_set[0:97]))\n",
    "data_predict = np.vstack((train_predict[len(train_predict)-224:],pred_testX))\n",
    "\n",
    "plt.axvline(x=len(training_set[len(training_set)-224:]), c='r', linestyle='--')\n",
    "\n",
    "plt.plot(dataY_plot)\n",
    "plt.plot(data_predict)\n",
    "plt.suptitle('Time-Series Prediction')\n",
    "plt.show()"
   ]
  }
 ],
 "metadata": {
  "accelerator": "GPU",
  "colab": {
   "name": "LSTM Prediction - Power data only - Better prediction Test set",
   "provenance": []
  },
  "kernelspec": {
   "display_name": "Python 3",
   "language": "python",
   "name": "python3"
  },
  "language_info": {
   "codemirror_mode": {
    "name": "ipython",
    "version": 3
   },
   "file_extension": ".py",
   "mimetype": "text/x-python",
   "name": "python",
   "nbconvert_exporter": "python",
   "pygments_lexer": "ipython3",
   "version": "3.8.8"
  }
 },
 "nbformat": 4,
 "nbformat_minor": 1
}
